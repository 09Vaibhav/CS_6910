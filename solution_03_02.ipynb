{
  "cells": [
    {
      "cell_type": "markdown",
      "metadata": {
        "id": "view-in-github",
        "colab_type": "text"
      },
      "source": [
        "<a href=\"https://colab.research.google.com/github/09Vaibhav/CS_6910/blob/main/solution_03_02.ipynb\" target=\"_parent\"><img src=\"https://colab.research.google.com/assets/colab-badge.svg\" alt=\"Open In Colab\"/></a>"
      ]
    },
    {
      "cell_type": "code",
      "execution_count": null,
      "metadata": {
        "colab": {
          "base_uri": "https://localhost:8080/"
        },
        "id": "86AIIeHL0Z_q",
        "outputId": "609dd996-ba10-4d71-eb71-0568c399b283"
      },
      "outputs": [
        {
          "output_type": "stream",
          "name": "stdout",
          "text": [
            "  % Total    % Received % Xferd  Average Speed   Time    Time     Time  Current\n",
            "                                 Dload  Upload   Total   Spent    Left  Speed\n",
            "100 1915M  100 1915M    0     0   203M      0  0:00:09  0:00:09 --:--:--  190M\n"
          ]
        }
      ],
      "source": [
        "!curl --header \"Host: storage.googleapis.com\" --header \"User-Agent: Mozilla/5.0 (Windows NT 10.0; Win64; x64) AppleWebKit/537.36 (KHTML, like Gecko) Chrome/89.0.4389.128 Safari/537.36 Edg/89.0.774.77\" --header \"Accept: text/html,application/xhtml+xml,application/xml;q=0.9,image/webp,image/apng,*/*;q=0.8,application/signed-exchange;v=b3;q=0.9\" --header \"Accept-Language: en-US,en;q=0.9\" --header \"Referer: https://github.com/google-research-datasets/dakshina\" \"https://storage.googleapis.com/gresearch/dakshina/dakshina_dataset_v1.0.tar\" -L -o \"dakshina_dataset_v1.0.tar\""
      ]
    },
    {
      "cell_type": "code",
      "execution_count": null,
      "metadata": {
        "id": "7qSPbTkF0lV4"
      },
      "outputs": [],
      "source": [
        "import shutil\n",
        "shutil.unpack_archive(\"/content/dakshina_dataset_v1.0.tar\",'/content/')"
      ]
    },
    {
      "cell_type": "code",
      "execution_count": null,
      "metadata": {
        "id": "mxcR0yP_0pjI"
      },
      "outputs": [],
      "source": [
        "import re\n",
        "from tqdm import tqdm\n",
        "import pandas as pd\n",
        "import numpy as np\n",
        "import tensorflow as tf\n",
        "from keras.models import Sequential,Model,load_model\n",
        "from keras.layers import Dense,LSTM,GRU,SimpleRNN,input,Dropout,TimeDistributed,RepeatVector,dot,BatchNormalization,concatenate,multiply,Activation\n",
        "from keras.layers.embeddings import Embedding\n",
        "from keras.preprocessing import sequence"
      ]
    },
    {
      "cell_type": "code",
      "execution_count": null,
      "metadata": {
        "colab": {
          "base_uri": "https://localhost:8080/"
        },
        "id": "sCE8kca70th_",
        "outputId": "709f953e-b93a-486d-9d37-a9822f1a2ddb"
      },
      "outputs": [
        {
          "output_type": "stream",
          "name": "stdout",
          "text": [
            "Requirement already satisfied: wandb in /usr/local/lib/python3.7/dist-packages (0.12.14)\n",
            "Requirement already satisfied: shortuuid>=0.5.0 in /usr/local/lib/python3.7/dist-packages (from wandb) (1.0.8)\n",
            "Requirement already satisfied: protobuf>=3.12.0 in /usr/local/lib/python3.7/dist-packages (from wandb) (3.17.3)\n",
            "Requirement already satisfied: Click!=8.0.0,>=7.0 in /usr/local/lib/python3.7/dist-packages (from wandb) (7.1.2)\n",
            "Requirement already satisfied: pathtools in /usr/local/lib/python3.7/dist-packages (from wandb) (0.1.2)\n",
            "Requirement already satisfied: requests<3,>=2.0.0 in /usr/local/lib/python3.7/dist-packages (from wandb) (2.23.0)\n",
            "Requirement already satisfied: setproctitle in /usr/local/lib/python3.7/dist-packages (from wandb) (1.2.3)\n",
            "Requirement already satisfied: GitPython>=1.0.0 in /usr/local/lib/python3.7/dist-packages (from wandb) (3.1.27)\n",
            "Requirement already satisfied: python-dateutil>=2.6.1 in /usr/local/lib/python3.7/dist-packages (from wandb) (2.8.2)\n",
            "Requirement already satisfied: six>=1.13.0 in /usr/local/lib/python3.7/dist-packages (from wandb) (1.15.0)\n",
            "Requirement already satisfied: sentry-sdk>=1.0.0 in /usr/local/lib/python3.7/dist-packages (from wandb) (1.5.10)\n",
            "Requirement already satisfied: docker-pycreds>=0.4.0 in /usr/local/lib/python3.7/dist-packages (from wandb) (0.4.0)\n",
            "Requirement already satisfied: PyYAML in /usr/local/lib/python3.7/dist-packages (from wandb) (3.13)\n",
            "Requirement already satisfied: promise<3,>=2.0 in /usr/local/lib/python3.7/dist-packages (from wandb) (2.3)\n",
            "Requirement already satisfied: psutil>=5.0.0 in /usr/local/lib/python3.7/dist-packages (from wandb) (5.4.8)\n",
            "Requirement already satisfied: gitdb<5,>=4.0.1 in /usr/local/lib/python3.7/dist-packages (from GitPython>=1.0.0->wandb) (4.0.9)\n",
            "Requirement already satisfied: typing-extensions>=3.7.4.3 in /usr/local/lib/python3.7/dist-packages (from GitPython>=1.0.0->wandb) (4.1.1)\n",
            "Requirement already satisfied: smmap<6,>=3.0.1 in /usr/local/lib/python3.7/dist-packages (from gitdb<5,>=4.0.1->GitPython>=1.0.0->wandb) (5.0.0)\n",
            "Requirement already satisfied: urllib3!=1.25.0,!=1.25.1,<1.26,>=1.21.1 in /usr/local/lib/python3.7/dist-packages (from requests<3,>=2.0.0->wandb) (1.24.3)\n",
            "Requirement already satisfied: chardet<4,>=3.0.2 in /usr/local/lib/python3.7/dist-packages (from requests<3,>=2.0.0->wandb) (3.0.4)\n",
            "Requirement already satisfied: idna<3,>=2.5 in /usr/local/lib/python3.7/dist-packages (from requests<3,>=2.0.0->wandb) (2.10)\n",
            "Requirement already satisfied: certifi>=2017.4.17 in /usr/local/lib/python3.7/dist-packages (from requests<3,>=2.0.0->wandb) (2021.10.8)\n"
          ]
        }
      ],
      "source": [
        "!pip install wandb"
      ]
    },
    {
      "cell_type": "code",
      "execution_count": null,
      "metadata": {
        "id": "w_X7Y6uc0zUS"
      },
      "outputs": [],
      "source": [
        "import wandb\n",
        "from wandb.keras import WandbCallback"
      ]
    },
    {
      "cell_type": "code",
      "execution_count": null,
      "metadata": {
        "id": "03vVmjCG0-mO",
        "colab": {
          "base_uri": "https://localhost:8080/"
        },
        "outputId": "61b8d6d6-d0e9-4ff5-ed44-4dec617dbb56"
      },
      "outputs": [
        {
          "output_type": "stream",
          "name": "stdout",
          "text": [
            "ERROR:tensorflow:==================================\n",
            "Object was never used (type <class 'tensorflow.python.ops.tensor_array_ops.TensorArray'>):\n",
            "<tensorflow.python.ops.tensor_array_ops.TensorArray object at 0x7fa1529b0610>\n",
            "If you want to mark it as used call its \"mark_used()\" method.\n",
            "It was originally created here:\n",
            "  File \"/usr/local/lib/python3.7/dist-packages/keras/backend.py\", line 4739, in <genexpr>\n",
            "    ta.write(time, out) for ta, out in zip(output_ta_t, flat_output))  File \"/usr/local/lib/python3.7/dist-packages/tensorflow/python/util/tf_should_use.py\", line 245, in wrapped\n",
            "    error_in_function=error_in_function)\n",
            "==================================\n"
          ]
        }
      ],
      "source": [
        "class seq2seq:\n",
        "    def __init__(self,cell,emd_size,latent_dmsn,encdr_lyr_size,dcdr_lyr_size,dropouts,epochs,size_of_batch):\n",
        "        self.cell = cell\n",
        "        self.emd_size = emd_size\n",
        "        self.latent_dmsn = latent_dmsn\n",
        "        self.encdr_lyr_size = encdr_lyr_size\n",
        "        self.dcdr_lyr_size = dcdr_lyr_size\n",
        "        self.dropouts=dropouts\n",
        "        self.epochs=epochs\n",
        "        self.size_of_batch=size_of_batch\n",
        "\n",
        "    def get_data(self,path):\n",
        "        d = pd.read_csv(path,sep=\"\\t\",header=None,error_bad_lines=False)\n",
        "        d = d.dropna()\n",
        "\n",
        "        dcdr_target_data = np.zeros((d.shape[0],self.max_length_y,self.dcdr_tokens), dtype=\"float32\")\n",
        "\n",
        "        for i,target_text in enumerate(d[0]):\n",
        "            target_text = '\\t'+target_text+'\\n'\n",
        "            for t, char in enumerate(target_text):\n",
        "                if t > 0:\n",
        "                    dcdr_target_data[i, t - 1, self.target_token_index[char]] = 1.0\n",
        "            dcdr_target_data[i, t:, self.target_token_index[\"\\n\"]] = 1.0\n",
        "\n",
        "        return ([[self.input_token_index[letter] for letter in list('\\t'+word+'\\n')] for word in d[1]]),\\\n",
        "                ([[self.target_token_index[letter] for letter in list('\\t'+word+'\\n')] for word in d[0]]),dcdr_target_data\n",
        "\n",
        "    def create_vocab(self,path):\n",
        "        d = pd.read_csv(path,sep=\"\\t\",header=None,error_bad_lines=False)\n",
        "        d = d.dropna()\n",
        "\n",
        "        x = [list('\\t'+word+'\\n') for word in np.array(d[1])]\n",
        "        y = [list('\\t'+word+'\\n') for word in np.array(d[0])]\n",
        "\n",
        "        telugu_vocab = set()\n",
        "        english_vocab = set()\n",
        "\n",
        "        for word in x:\n",
        "            for char in word:\n",
        "                english_vocab.add(char)\n",
        "\n",
        "        for word in y:\n",
        "            for char in word:\n",
        "                telugu_vocab.add(char)\n",
        "\n",
        "        telugu_list = sorted(list(telugu_vocab))\n",
        "        english_list = sorted(list(english_vocab))\n",
        "\n",
        "        max_length_x = (np.max([len(i) for i in x]))\n",
        "        max_length_y = (np.max([len(i) for i in y]))\n",
        "\n",
        "        return telugu_list,english_list,max_length_x,max_length_y    \n",
        "\n",
        "    def create_data(self):\n",
        "        train_path = \"/content/dakshina_dataset_v1.0/te/lexicons/te.translit.sampled.train.tsv\"\n",
        "        cv_path = \"/content/dakshina_dataset_v1.0/te/lexicons/te.translit.sampled.dev.tsv\"\n",
        "        test_path = \"/content/dakshina_dataset_v1.0/te/lexicons/te.translit.sampled.test.tsv\"\n",
        "\n",
        "        telugu_list,english_list,self.max_length_x,self.max_length_y = self.create_vocab(train_path)\n",
        "        self.encdr_tokens = len(english_list)\n",
        "        self.dcdr_tokens = len(telugu_list)\n",
        "\n",
        "        # Dict for char to index\n",
        "        self.input_token_index = dict([(char, i) for i, char in enumerate(english_list)])\n",
        "        self.target_token_index = dict([(char, i) for i, char in enumerate(telugu_list)])\n",
        "\n",
        "        # Dict for index to char\n",
        "        self.inv_input_token_index = dict({(value,key) for key,value in self.input_token_index.items()})\n",
        "        self.inv_target_token_index = dict({(value,key) for key,value in self.target_token_index.items()})\n",
        "\n",
        "        encdr_train,dcdr_train,self.dcdr_target_train = self.get_data(train_path)\n",
        "        encdr_cv,dcdr_cv,self.dcdr_target_cv = self.get_data(cv_path)\n",
        "        encdr_test,dcdr_test,self.dcdr_target_test = self.get_data(test_path)\n",
        "\n",
        "\n",
        "        self.encdr_train = sequence.pad_sequences(encdr_train,maxlen=self.max_length_x,padding=\"post\")\n",
        "        self.dcdr_train = sequence.pad_sequences(dcdr_train,maxlen=self.max_length_y,padding=\"post\")\n",
        "        self.encdr_cv = sequence.pad_sequences(encdr_cv,maxlen=self.max_length_x,padding=\"post\")\n",
        "        self.dcdr_cv = sequence.pad_sequences(dcdr_cv,maxlen=self.max_length_y,padding=\"post\")\n",
        "        self.encdr_test = sequence.pad_sequences(encdr_test,maxlen=self.max_length_x,padding=\"post\")\n",
        "        self.dcdr_test = sequence.pad_sequences(dcdr_test,maxlen=self.max_length_y,padding=\"post\")\n",
        "\n",
        "    def create_model(self):\n",
        "        encdr_inputs = input(shape=(None,))\n",
        "        x = Embedding(self.encdr_tokens,self.emd_size,input_length=self.max_length_x)(encdr_inputs)\n",
        "        for _ in range(self.encdr_lyr_size):\n",
        "            if self.cell == \"lstm\":\n",
        "                x,state_h,state_c = LSTM(self.latent_dmsn,return_state=True,return_sequences=True,dropout=self.dropouts)(x)\n",
        "                encdr_states = [state_h,state_c]\n",
        "            elif self.cell == \"rnn\":\n",
        "                x,state_c = SimpleRNN(self.latent_dmsn,return_state=True,return_sequences=True,dropout=self.dropouts)(x)\n",
        "                encdr_states = [state_c]\n",
        "            elif self.cell == \"gru\":\n",
        "                x,state_c = GRU(self.latent_dmsn,return_state=True,return_sequences=True,dropout=self.dropouts)(x)\n",
        "                encdr_states = [state_c]\n",
        "                        \n",
        "\n",
        "        dcdr_inputs = input(shape=(None,))\n",
        "        dcdr_embb = Embedding(self.dcdr_tokens,self.emd_size,input_length=self.max_length_y)(dcdr_inputs)\n",
        "        if self.cell == \"lstm\":\n",
        "            dcdr_lstm,state_h,state_c = LSTM(self.latent_dmsn, return_sequences=True,return_state=True,dropout=self.dropouts)(dcdr_embb,initial_state=encdr_states)\n",
        "        elif self.cell == \"rnn\":\n",
        "            dcdr_lstm,state_h = SimpleRNN(self.latent_dmsn, return_sequences=True,return_state=True,dropout=self.dropouts)(dcdr_embb,initial_state=encdr_states)\n",
        "        elif self.cell == \"gru\":\n",
        "            dcdr_lstm,state_h = GRU(self.latent_dmsn, return_sequences=True,return_state=True,dropout=self.dropouts)(dcdr_embb,initial_state=encdr_states)\n",
        "\n",
        "        for i in range(self.dcdr_lyr_size-1):\n",
        "            if self.cell == \"lstm\":\n",
        "                dcdr_lstm,state_h,state_c = LSTM(self.latent_dmsn, return_sequences=True,return_state=True,dropout=self.dropouts)(dcdr_lstm)\n",
        "            elif self.cell == \"rnn\":\n",
        "                dcdr_lstm,state_h = SimpleRNN(self.latent_dmsn, return_sequences=True,return_state=True,dropout=self.dropouts)(dcdr_lstm)\n",
        "            elif self.cell == \"gru\":\n",
        "                dcdr_lstm,state_h = GRU(self.latent_dmsn, return_sequences=True,return_state=True,dropout=self.dropouts)(dcdr_lstm)\n",
        "        \n",
        "\n",
        "        dcdr_outputs = TimeDistributed(Dense(self.dcdr_tokens, activation='softmax'))(dcdr_lstm)\n",
        "\n",
        "        model = Model([encdr_inputs, dcdr_inputs], dcdr_outputs)\n",
        "\n",
        "        return model\n",
        "\n",
        "    def percentage_of_correct_test_predictions(self,model):\n",
        "        count = 0\n",
        "        for i in tqdm(range(self.encdr_test.shape[0])):\n",
        "            pred = model([np.expand_dims(self.encdr_test[i],0),np.expand_dims(self.dcdr_test[i],0)])\n",
        "            actual_out = re.sub('\\t|\\n','',''.join([self.inv_target_token_index[self.dcdr_test[i][j]] for j in range(self.max_length_y)]))\n",
        "            predicted_out = re.sub('\\t|\\n','',''.join(self.inv_target_token_index[np.argmax(pred[0][j])] for j in range(self.max_length_y)))\n",
        "            if (actual_out==predicted_out):\n",
        "                count+=1\n",
        "        return count/self.encdr_test.shape[0]\n",
        "\n",
        "    def run(self,model):\n",
        "        # Compile & run training\n",
        "        model.compile(optimizer='Adam', loss='categorical_crossentropy', metrics=[\"accuracy\"])\n",
        "\n",
        "        model.fit([self.encdr_train,self.dcdr_train], self.dcdr_target_train,\n",
        "                self.size_of_batch,\n",
        "                self.epochs,validation_data=([self.encdr_cv,self.dcdr_cv], self.dcdr_target_cv),\n",
        "                callbacks = [Word_Accuracy_Callback(self),WandbCallback(monitor='WordAccuracy',save_model = True)],verbose=1) \n",
        "        \n"
      ]
    },
    {
      "cell_type": "code",
      "execution_count": null,
      "metadata": {
        "id": "FuWKmXQu1EQI"
      },
      "outputs": [],
      "source": [
        "class Word_Accuracy_Callback(tf.keras.callbacks.Callback):\n",
        "  def __init__(self,obj):\n",
        "    self.obj = obj\n",
        "\n",
        "  def on_epoch_end(self,epoch,logs):\n",
        "    count = 0\n",
        "    for i in range(self.obj.encdr_cv.shape[0]):\n",
        "      pred = self.model([np.expand_dims(self.obj.encdr_cv[i],0),np.expand_dims(self.obj.dcdr_cv[i],0)])\n",
        "      actual_out = re.sub('\\t|\\n','',''.join([self.obj.inv_target_token_index[self.obj.dcdr_cv[i][j]] for j in range(self.obj.max_length_y)]))\n",
        "      predicted_out = re.sub('\\t|\\n','',''.join(self.obj.inv_target_token_index[np.argmax(pred[0][j])] for j in range(self.obj.max_length_y)))\n",
        "      if (actual_out==predicted_out):\n",
        "        count+=1\n",
        "\n",
        "    logs[\"validation accuracy\"] = count/self.obj.encdr_cv.shape[0]\n",
        "    print(\"vallidation accuracy =\", count/self.obj.encdr_cv.shape[0])"
      ]
    },
    {
      "cell_type": "code",
      "execution_count": null,
      "metadata": {
        "colab": {
          "base_uri": "https://localhost:8080/",
          "height": 195
        },
        "id": "1QFU4Mi01KAw",
        "outputId": "feab7437-6aa5-4d31-e03f-38b88e57f920"
      },
      "outputs": [
        {
          "output_type": "display_data",
          "data": {
            "text/plain": [
              "<IPython.core.display.HTML object>"
            ],
            "text/html": [
              "Changes to your `wandb` environment variables will be ignored because your `wandb` session has already started. For more information on how to modify your settings with `wandb.init()` arguments, please refer to <a href=\"https://wandb.me/wandb-init\" target=\"_blank\">the W&B docs</a>."
            ]
          },
          "metadata": {}
        },
        {
          "output_type": "stream",
          "name": "stderr",
          "text": [
            "\u001b[34m\u001b[1mwandb\u001b[0m: Currently logged in as: \u001b[33mkumar-vaibhav\u001b[0m (use `wandb login --relogin` to force relogin)\n",
            "\u001b[34m\u001b[1mwandb\u001b[0m: \u001b[33mWARNING\u001b[0m Ignored wandb.init() arg project when running a sweep.\n",
            "\u001b[34m\u001b[1mwandb\u001b[0m: \u001b[33mWARNING\u001b[0m Ignored wandb.init() arg entity when running a sweep.\n"
          ]
        },
        {
          "output_type": "display_data",
          "data": {
            "text/plain": [
              "<IPython.core.display.HTML object>"
            ],
            "text/html": [
              "Tracking run with wandb version 0.12.14"
            ]
          },
          "metadata": {}
        },
        {
          "output_type": "display_data",
          "data": {
            "text/plain": [
              "<IPython.core.display.HTML object>"
            ],
            "text/html": [
              "Run data is saved locally in <code>/content/wandb/run-20220421_122659-ih7psmoy</code>"
            ]
          },
          "metadata": {}
        },
        {
          "output_type": "display_data",
          "data": {
            "text/plain": [
              "<IPython.core.display.HTML object>"
            ],
            "text/html": [
              "Syncing run <strong><a href=\"https://wandb.ai/vaibhav-kuldeep/assignment%203%20question%202_/runs/ih7psmoy\" target=\"_blank\">restful-sweep-1</a></strong> to <a href=\"https://wandb.ai/vaibhav-kuldeep/assignment%203%20question%202_\" target=\"_blank\">Weights & Biases</a> (<a href=\"https://wandb.me/run\" target=\"_blank\">docs</a>)<br/>Sweep page:  <a href=\"https://wandb.ai/vaibhav-kuldeep/assignment%203%20question%202_/sweeps/khpoeeyu\" target=\"_blank\">https://wandb.ai/vaibhav-kuldeep/assignment%203%20question%202_/sweeps/khpoeeyu</a>"
            ]
          },
          "metadata": {}
        },
        {
          "output_type": "execute_result",
          "data": {
            "text/html": [
              "<button onClick=\"this.nextSibling.style.display='block';this.style.display='none';\">Display W&B run</button><iframe src=\"https://wandb.ai/vaibhav-kuldeep/assignment%203%20question%202_/runs/ih7psmoy?jupyter=true\" style=\"border:none;width:100%;height:420px;display:none;\"></iframe>"
            ],
            "text/plain": [
              "<wandb.sdk.wandb_run.Run at 0x7fa15b386ad0>"
            ]
          },
          "metadata": {},
          "execution_count": 33
        }
      ],
      "source": [
        "wandb.init(project='assignment 3 question 2_', entity='vaibhav-kuldeep')"
      ]
    },
    {
      "cell_type": "code",
      "execution_count": null,
      "metadata": {
        "id": "VwnzGpiF2KrB"
      },
      "outputs": [],
      "source": [
        "sweep_config={\n",
        "    'method': 'random',\n",
        "    'metric': {\n",
        "        'name': 'accuracy',\n",
        "        'goal': 'maximize'\n",
        "    },\n",
        "    'parameters':{\n",
        "        'epochs':{\n",
        "            'values':[3,5,6]\n",
        "        },\n",
        "        'emd_size':{\n",
        "            'values':[8,12,16,20]\n",
        "        },\n",
        "        'encdr_lyr_size':{\n",
        "            'values':[1,2,3]\n",
        "        },\n",
        "        'dcdr_lyr_size':{\n",
        "            'values':[1,2,3]\n",
        "        },\n",
        "        'cell':{\n",
        "            'values':[\"rnn\",\"gru\",\"lstm\"]\n",
        "        },\n",
        "        'dropouts':{\n",
        "            'values':[0,0.2,0.3,0.4]\n",
        "        },\n",
        "        'latent_dmsn':{\n",
        "            'values':[16,32,64,128,256,512]\n",
        "        },\n",
        "        'size_of_batch':{\n",
        "            'values':[32,64]\n",
        "        }\n",
        "    }\n",
        "}"
      ]
    },
    {
      "cell_type": "code",
      "execution_count": null,
      "metadata": {
        "colab": {
          "base_uri": "https://localhost:8080/"
        },
        "id": "gioieDKY2RzD",
        "outputId": "14c33ef5-b106-4a18-80b1-11bb19a0a807"
      },
      "outputs": [
        {
          "output_type": "stream",
          "name": "stdout",
          "text": [
            "Requirement already satisfied: wandb in /usr/local/lib/python3.7/dist-packages (0.12.14)\n",
            "Requirement already satisfied: Click!=8.0.0,>=7.0 in /usr/local/lib/python3.7/dist-packages (from wandb) (7.1.2)\n",
            "Requirement already satisfied: promise<3,>=2.0 in /usr/local/lib/python3.7/dist-packages (from wandb) (2.3)\n",
            "Requirement already satisfied: six>=1.13.0 in /usr/local/lib/python3.7/dist-packages (from wandb) (1.15.0)\n",
            "Requirement already satisfied: protobuf>=3.12.0 in /usr/local/lib/python3.7/dist-packages (from wandb) (3.17.3)\n",
            "Requirement already satisfied: docker-pycreds>=0.4.0 in /usr/local/lib/python3.7/dist-packages (from wandb) (0.4.0)\n",
            "Requirement already satisfied: setproctitle in /usr/local/lib/python3.7/dist-packages (from wandb) (1.2.3)\n",
            "Requirement already satisfied: shortuuid>=0.5.0 in /usr/local/lib/python3.7/dist-packages (from wandb) (1.0.8)\n",
            "Requirement already satisfied: GitPython>=1.0.0 in /usr/local/lib/python3.7/dist-packages (from wandb) (3.1.27)\n",
            "Requirement already satisfied: python-dateutil>=2.6.1 in /usr/local/lib/python3.7/dist-packages (from wandb) (2.8.2)\n",
            "Requirement already satisfied: psutil>=5.0.0 in /usr/local/lib/python3.7/dist-packages (from wandb) (5.4.8)\n",
            "Requirement already satisfied: requests<3,>=2.0.0 in /usr/local/lib/python3.7/dist-packages (from wandb) (2.23.0)\n",
            "Requirement already satisfied: PyYAML in /usr/local/lib/python3.7/dist-packages (from wandb) (3.13)\n",
            "Requirement already satisfied: pathtools in /usr/local/lib/python3.7/dist-packages (from wandb) (0.1.2)\n",
            "Requirement already satisfied: sentry-sdk>=1.0.0 in /usr/local/lib/python3.7/dist-packages (from wandb) (1.5.10)\n",
            "Requirement already satisfied: gitdb<5,>=4.0.1 in /usr/local/lib/python3.7/dist-packages (from GitPython>=1.0.0->wandb) (4.0.9)\n",
            "Requirement already satisfied: typing-extensions>=3.7.4.3 in /usr/local/lib/python3.7/dist-packages (from GitPython>=1.0.0->wandb) (4.1.1)\n",
            "Requirement already satisfied: smmap<6,>=3.0.1 in /usr/local/lib/python3.7/dist-packages (from gitdb<5,>=4.0.1->GitPython>=1.0.0->wandb) (5.0.0)\n",
            "Requirement already satisfied: idna<3,>=2.5 in /usr/local/lib/python3.7/dist-packages (from requests<3,>=2.0.0->wandb) (2.10)\n",
            "Requirement already satisfied: urllib3!=1.25.0,!=1.25.1,<1.26,>=1.21.1 in /usr/local/lib/python3.7/dist-packages (from requests<3,>=2.0.0->wandb) (1.24.3)\n",
            "Requirement already satisfied: chardet<4,>=3.0.2 in /usr/local/lib/python3.7/dist-packages (from requests<3,>=2.0.0->wandb) (3.0.4)\n",
            "Requirement already satisfied: certifi>=2017.4.17 in /usr/local/lib/python3.7/dist-packages (from requests<3,>=2.0.0->wandb) (2021.10.8)\n",
            "\u001b[34m\u001b[1mwandb\u001b[0m: Appending key for api.wandb.ai to your netrc file: /root/.netrc\n"
          ]
        }
      ],
      "source": [
        "!pip install --upgrade wandb\n",
        "import wandb\n",
        "!wandb login 7c2b51b201fca423d3798d6c77c45bc79501464a"
      ]
    },
    {
      "cell_type": "code",
      "execution_count": null,
      "metadata": {
        "colab": {
          "base_uri": "https://localhost:8080/"
        },
        "id": "NKmjFG302eDz",
        "outputId": "2a41de6f-a524-423f-8165-b7588a6cc84a"
      },
      "outputs": [
        {
          "output_type": "stream",
          "name": "stdout",
          "text": [
            "Create sweep with ID: wbidaosr\n",
            "Sweep URL: https://wandb.ai/vaibhav-kuldeep/assignment%203%20question%202_/sweeps/wbidaosr\n"
          ]
        }
      ],
      "source": [
        "sweep_id = wandb.sweep(sweep_config,project='assignment 3 question 2_', entity=\"vaibhav-kuldeep\")"
      ]
    },
    {
      "cell_type": "code",
      "execution_count": null,
      "metadata": {
        "id": "LlEqgJrz2r_X"
      },
      "outputs": [],
      "source": [
        "def train():\n",
        "    config_defaults={\n",
        "      'epochs':5,\n",
        "      'emd_size':16,\n",
        "      'dropouts':0,\n",
        "      'encdr_layer_size':2,\n",
        "      'dcdr_layer_size':2,\n",
        "      'cell':\"lstm\",\n",
        "      'latent_dmsn':512,\n",
        "      'size_of_batch': 64\n",
        "       }\n",
        "    \n",
        "    wandb.init(config=config_defaults)\n",
        "    config=wandb.config\n",
        "    s2s=seq2seq(config.cell,config.emd_size,config.latent_dmsn,config.encdr_lyr_size,config.dcdr_lyr_size,config.dropouts,config.epochs,config.size_of_batch)\n",
        "    s2s.create_data()\n",
        "    model=s2s.create_model()\n",
        "    s2s.run(model)\n",
        "\n",
        "\n"
      ]
    },
    {
      "cell_type": "code",
      "execution_count": null,
      "metadata": {
        "colab": {
          "base_uri": "https://localhost:8080/",
          "height": 1000,
          "referenced_widgets": [
            "8910349611a447b2958a014a484c1d96",
            "7c623d6a52a44a7e8f3508a9d312b878",
            "e019948fe8a44952886c710639cc8d58",
            "17d02178537c4e5fbba3025ef9a07ad2",
            "7e1262a5be2047838c906fad33ea7eb4",
            "0c3ce49c5a01466289f4d4078e1e9f67",
            "1098e74aa4764aaca9ce88245b9c621d",
            "a67da02956e74cab8cee55e3d5a10d1e",
            "f5ca1a9105db4f5ab3440e1cce50b004",
            "529a21d0aba14f8b9b339963aa17ec4b",
            "43c33ce93c0049c89843deb3191aeb10",
            "8882bad0cbb44771b703c672c936fb18",
            "79377db53452438bb0dee82216645ed7",
            "b43d71018e9a441f847324fe5296faf5",
            "155e002ce9c442cfafd2275f1f507cd5",
            "2389826bc3714c1f8ede8a932dd57e2d",
            "7946adf703d24305ad497e49485d4560",
            "83ba471bac8a4e59ab9a43dcbfda6acb",
            "bc0077b2acd14dfcb003c0e3f996d940",
            "26da298404884801b61cae4150bad294",
            "c7354d40d4744ffb97e2afe25c946625",
            "8a5ae531c4c042b3bf25b132a5a83920",
            "966b16990cb740bda8e652609cb03a53",
            "1cffc4afbfd24ccd811d28e7a38eab35",
            "85280c8040fd4a5ba6dfea5932220463",
            "f87459d6cd754592b763fc6a39f0ea0a",
            "b8c287d9d6ba4f1e9abf896b4576b8a3",
            "ca8f7221b2ba4bb5adf4b5bf9d3fe7b2",
            "7cc15d0093124cc3b8e29359d07bfc9d",
            "c84431c9862d47998847a2fc5ecbe233",
            "c37171f0f538448795ae43cf528cc729",
            "bf88ed2dfbdc45a0831039ae57d65cf0",
            "ec1127e801b245f4bd4b24fc55dd13f2",
            "683e897fbf184257a153e02c4e019899",
            "dde554b37926468ab2166b2c7239c4eb",
            "cdf83bca93fb4f29b48190703251dfc0",
            "d35d0df6c2824bb08403784133e953a7",
            "af1e4b87f2694ab79beec3c52c9751b5",
            "baa808562fd74c239556f00782a4247d",
            "d5a3df6c61174b338646440637bd7cea",
            "4af2e5960736484493cb248897ebe02c",
            "d4134bf90eb94ec19a7c7881ff457afc",
            "8bec1342ce5243a0ac75bcb4f5f737e0",
            "a59234422aa448a3aeaf047abeac2007",
            "5e7e368acc914455b05e6e90b13bc08f",
            "7b206131bf6a4651a8a9bcae434f250f",
            "1c26839c82e44f0d84d699490aaab4df",
            "da415b07e079448ab2945dc9d7fb3e82",
            "1d24c19b1dca4ec3a547ee33fea6d58e",
            "c376c08f902a4d40bd6569b381026a67",
            "e5df07e28fa5475bb4bf8dd91c5f0f66",
            "71ccf9beb0154d37a7b56e0c6c2c2541",
            "67dcda7e9d2341619811ace93d83595a",
            "a9eee12200d94373bf783105944e2f20",
            "8625b0ed44ae432db620cabd8a78f3ca",
            "a76cdb788d8949b3ab16f72aee9e5e22"
          ]
        },
        "id": "Tg62gENc2xhU",
        "outputId": "93d893f1-7cd5-46cc-cba4-e0140926f184"
      },
      "outputs": [
        {
          "metadata": {
            "tags": null
          },
          "name": "stderr",
          "output_type": "stream",
          "text": [
            "\u001b[34m\u001b[1mwandb\u001b[0m: \u001b[33mWARNING\u001b[0m Calling wandb.login() after wandb.init() has no effect.\n",
            "\u001b[34m\u001b[1mwandb\u001b[0m: Agent Starting Run: 20j3h54b with config:\n",
            "\u001b[34m\u001b[1mwandb\u001b[0m: \tbatch_size: 64\n",
            "\u001b[34m\u001b[1mwandb\u001b[0m: \tcell: rnn\n",
            "\u001b[34m\u001b[1mwandb\u001b[0m: \tdecoder_layers_size: 3\n",
            "\u001b[34m\u001b[1mwandb\u001b[0m: \tdropouts: 0.2\n",
            "\u001b[34m\u001b[1mwandb\u001b[0m: \tembedding_size: 20\n",
            "\u001b[34m\u001b[1mwandb\u001b[0m: \tencoder_layers_size: 3\n",
            "\u001b[34m\u001b[1mwandb\u001b[0m: \tepochs: 5\n",
            "\u001b[34m\u001b[1mwandb\u001b[0m: \tlatent_dim: 16\n"
          ]
        },
        {
          "data": {
            "text/html": [
              "Tracking run with wandb version 0.12.14"
            ],
            "text/plain": [
              "<IPython.core.display.HTML object>"
            ]
          },
          "metadata": {},
          "output_type": "display_data"
        },
        {
          "data": {
            "text/html": [
              "Run data is saved locally in <code>/content/wandb/run-20220421_122756-20j3h54b</code>"
            ],
            "text/plain": [
              "<IPython.core.display.HTML object>"
            ]
          },
          "metadata": {},
          "output_type": "display_data"
        },
        {
          "data": {
            "text/html": [
              "Syncing run <strong><a href=\"https://wandb.ai/vaibhav-kuldeep/assignment%203%20question%202_/runs/20j3h54b\" target=\"_blank\">elated-sweep-1</a></strong> to <a href=\"https://wandb.ai/vaibhav-kuldeep/assignment%203%20question%202_\" target=\"_blank\">Weights & Biases</a> (<a href=\"https://wandb.me/run\" target=\"_blank\">docs</a>)<br/>Sweep page:  <a href=\"https://wandb.ai/vaibhav-kuldeep/assignment%203%20question%202_/sweeps/wbidaosr\" target=\"_blank\">https://wandb.ai/vaibhav-kuldeep/assignment%203%20question%202_/sweeps/wbidaosr</a>"
            ],
            "text/plain": [
              "<IPython.core.display.HTML object>"
            ]
          },
          "metadata": {},
          "output_type": "display_data"
        },
        {
          "metadata": {
            "tags": null
          },
          "name": "stderr",
          "output_type": "stream",
          "text": [
            "/usr/local/lib/python3.7/dist-packages/ipykernel_launcher.py:58: FutureWarning: The error_bad_lines argument has been deprecated and will be removed in a future version.\n",
            "\n",
            "\n",
            "/usr/local/lib/python3.7/dist-packages/ipykernel_launcher.py:70: FutureWarning: The error_bad_lines argument has been deprecated and will be removed in a future version.\n",
            "\n",
            "\n",
            "/usr/local/lib/python3.7/dist-packages/ipykernel_launcher.py:71: FutureWarning: The error_bad_lines argument has been deprecated and will be removed in a future version.\n",
            "\n",
            "\n",
            "/usr/local/lib/python3.7/dist-packages/ipykernel_launcher.py:72: FutureWarning: The error_bad_lines argument has been deprecated and will be removed in a future version.\n",
            "\n",
            "\n"
          ]
        },
        {
          "metadata": {
            "tags": null
          },
          "name": "stdout",
          "output_type": "stream",
          "text": [
            "Epoch 1/5\n",
            "915/915 [==============================] - ETA: 0s - loss: 1.4822 - accuracy: 0.6511vallidation accuracy = 0.0\n",
            "915/915 [==============================] - 826s 898ms/step - loss: 1.4822 - accuracy: 0.6511 - val_loss: 1.0991 - val_accuracy: 0.7014 - validation accuracy: 0.0000e+00 - _timestamp: 1650544910.0000 - _runtime: 834.0000\n",
            "Epoch 2/5\n",
            "914/915 [============================>.] - ETA: 0s - loss: 1.1238 - accuracy: 0.6862vallidation accuracy = 0.0\n",
            "915/915 [==============================] - 835s 914ms/step - loss: 1.1237 - accuracy: 0.6863 - val_loss: 0.9991 - val_accuracy: 0.7158 - validation accuracy: 0.0000e+00 - _timestamp: 1650545745.0000 - _runtime: 1669.0000\n",
            "Epoch 3/5\n",
            "915/915 [==============================] - ETA: 0s - loss: 1.0721 - accuracy: 0.6946vallidation accuracy = 0.0\n",
            "915/915 [==============================] - 821s 898ms/step - loss: 1.0721 - accuracy: 0.6946 - val_loss: 0.9770 - val_accuracy: 0.7222 - validation accuracy: 0.0000e+00 - _timestamp: 1650546566.0000 - _runtime: 2490.0000\n",
            "Epoch 4/5\n",
            "914/915 [============================>.] - ETA: 0s - loss: 1.0526 - accuracy: 0.7002vallidation accuracy = 0.0\n",
            "915/915 [==============================] - 822s 900ms/step - loss: 1.0527 - accuracy: 0.7002 - val_loss: 0.9672 - val_accuracy: 0.7241 - validation accuracy: 0.0000e+00 - _timestamp: 1650547389.0000 - _runtime: 3313.0000\n",
            "Epoch 5/5\n",
            "915/915 [==============================] - ETA: 0s - loss: 1.0402 - accuracy: 0.7043vallidation accuracy = 0.0\n",
            "915/915 [==============================] - 820s 898ms/step - loss: 1.0402 - accuracy: 0.7043 - val_loss: 0.9574 - val_accuracy: 0.7272 - validation accuracy: 0.0000e+00 - _timestamp: 1650548209.0000 - _runtime: 4133.0000\n",
            "\n"
          ]
        },
        {
          "data": {
            "text/html": [
              "Waiting for W&B process to finish... <strong style=\"color:green\">(success).</strong>"
            ],
            "text/plain": [
              "<IPython.core.display.HTML object>"
            ]
          },
          "metadata": {},
          "output_type": "display_data"
        },
        {
          "data": {
            "application/vnd.jupyter.widget-view+json": {
              "model_id": "8910349611a447b2958a014a484c1d96",
              "version_major": 2,
              "version_minor": 0
            },
            "text/plain": [
              "VBox(children=(Label(value='0.002 MB of 0.002 MB uploaded (0.000 MB deduped)\\r'), FloatProgress(value=1.0, max…"
            ]
          },
          "metadata": {},
          "output_type": "display_data"
        },
        {
          "data": {
            "text/html": [
              "<style>\n",
              "    table.wandb td:nth-child(1) { padding: 0 10px; text-align: right }\n",
              "    .wandb-row { display: flex; flex-direction: row; flex-wrap: wrap; width: 100% }\n",
              "    .wandb-col { display: flex; flex-direction: column; flex-basis: 100%; flex: 1; padding: 10px; }\n",
              "    </style>\n",
              "<div class=\"wandb-row\"><div class=\"wandb-col\"><h3>Run history:</h3><br/><table class=\"wandb\"><tr><td>accuracy</td><td>▁▆▇▇█</td></tr><tr><td>epoch</td><td>▁▃▅▆█</td></tr><tr><td>loss</td><td>█▂▂▁▁</td></tr><tr><td>val_accuracy</td><td>▁▅▇▇█</td></tr><tr><td>val_loss</td><td>█▃▂▁▁</td></tr><tr><td>validation accuracy</td><td>▁▁▁▁▁</td></tr></table><br/></div><div class=\"wandb-col\"><h3>Run summary:</h3><br/><table class=\"wandb\"><tr><td>accuracy</td><td>0.70426</td></tr><tr><td>epoch</td><td>4</td></tr><tr><td>loss</td><td>1.0402</td></tr><tr><td>val_accuracy</td><td>0.72717</td></tr><tr><td>val_loss</td><td>0.95737</td></tr><tr><td>validation accuracy</td><td>0.0</td></tr></table><br/></div></div>"
            ],
            "text/plain": [
              "<IPython.core.display.HTML object>"
            ]
          },
          "metadata": {},
          "output_type": "display_data"
        },
        {
          "data": {
            "text/html": [
              "Synced <strong style=\"color:#cdcd00\">elated-sweep-1</strong>: <a href=\"https://wandb.ai/vaibhav-kuldeep/assignment%203%20question%202_/runs/20j3h54b\" target=\"_blank\">https://wandb.ai/vaibhav-kuldeep/assignment%203%20question%202_/runs/20j3h54b</a><br/>Synced 5 W&B file(s), 1 media file(s), 0 artifact file(s) and 0 other file(s)"
            ],
            "text/plain": [
              "<IPython.core.display.HTML object>"
            ]
          },
          "metadata": {},
          "output_type": "display_data"
        },
        {
          "data": {
            "text/html": [
              "Find logs at: <code>./wandb/run-20220421_122756-20j3h54b/logs</code>"
            ],
            "text/plain": [
              "<IPython.core.display.HTML object>"
            ]
          },
          "metadata": {},
          "output_type": "display_data"
        },
        {
          "metadata": {
            "tags": null
          },
          "name": "stderr",
          "output_type": "stream",
          "text": [
            "\u001b[34m\u001b[1mwandb\u001b[0m: Sweep Agent: Waiting for job.\n",
            "\u001b[34m\u001b[1mwandb\u001b[0m: Job received.\n",
            "\u001b[34m\u001b[1mwandb\u001b[0m: Agent Starting Run: ysfmi4tr with config:\n",
            "\u001b[34m\u001b[1mwandb\u001b[0m: \tbatch_size: 64\n",
            "\u001b[34m\u001b[1mwandb\u001b[0m: \tcell: gru\n",
            "\u001b[34m\u001b[1mwandb\u001b[0m: \tdecoder_layers_size: 1\n",
            "\u001b[34m\u001b[1mwandb\u001b[0m: \tdropouts: 0.2\n",
            "\u001b[34m\u001b[1mwandb\u001b[0m: \tembedding_size: 16\n",
            "\u001b[34m\u001b[1mwandb\u001b[0m: \tencoder_layers_size: 2\n",
            "\u001b[34m\u001b[1mwandb\u001b[0m: \tepochs: 5\n",
            "\u001b[34m\u001b[1mwandb\u001b[0m: \tlatent_dim: 16\n"
          ]
        },
        {
          "data": {
            "text/html": [
              "Tracking run with wandb version 0.12.14"
            ],
            "text/plain": [
              "<IPython.core.display.HTML object>"
            ]
          },
          "metadata": {},
          "output_type": "display_data"
        },
        {
          "data": {
            "text/html": [
              "Run data is saved locally in <code>/content/wandb/run-20220421_133748-ysfmi4tr</code>"
            ],
            "text/plain": [
              "<IPython.core.display.HTML object>"
            ]
          },
          "metadata": {},
          "output_type": "display_data"
        },
        {
          "data": {
            "text/html": [
              "Syncing run <strong><a href=\"https://wandb.ai/vaibhav-kuldeep/assignment%203%20question%202_/runs/ysfmi4tr\" target=\"_blank\">lilac-sweep-2</a></strong> to <a href=\"https://wandb.ai/vaibhav-kuldeep/assignment%203%20question%202_\" target=\"_blank\">Weights & Biases</a> (<a href=\"https://wandb.me/run\" target=\"_blank\">docs</a>)<br/>Sweep page:  <a href=\"https://wandb.ai/vaibhav-kuldeep/assignment%203%20question%202_/sweeps/wbidaosr\" target=\"_blank\">https://wandb.ai/vaibhav-kuldeep/assignment%203%20question%202_/sweeps/wbidaosr</a>"
            ],
            "text/plain": [
              "<IPython.core.display.HTML object>"
            ]
          },
          "metadata": {},
          "output_type": "display_data"
        },
        {
          "metadata": {
            "tags": null
          },
          "name": "stdout",
          "output_type": "stream",
          "text": [
            "Epoch 1/5\n",
            "914/915 [============================>.] - ETA: 0s - loss: 1.5267 - accuracy: 0.6557vallidation accuracy = 0.0\n",
            "915/915 [==============================] - 537s 581ms/step - loss: 1.5263 - accuracy: 0.6557 - val_loss: 1.0996 - val_accuracy: 0.7002 - validation accuracy: 0.0000e+00 - _timestamp: 1650548814.0000 - _runtime: 546.0000\n",
            "Epoch 2/5\n",
            "915/915 [==============================] - ETA: 0s - loss: 1.1383 - accuracy: 0.6830vallidation accuracy = 0.0\n",
            "915/915 [==============================] - 529s 578ms/step - loss: 1.1383 - accuracy: 0.6830 - val_loss: 1.0430 - val_accuracy: 0.7082 - validation accuracy: 0.0000e+00 - _timestamp: 1650549343.0000 - _runtime: 1075.0000\n",
            "Epoch 3/5\n",
            "915/915 [==============================] - ETA: 0s - loss: 1.0953 - accuracy: 0.6936vallidation accuracy = 0.0\n",
            "915/915 [==============================] - 529s 579ms/step - loss: 1.0953 - accuracy: 0.6936 - val_loss: 0.9888 - val_accuracy: 0.7239 - validation accuracy: 0.0000e+00 - _timestamp: 1650549872.0000 - _runtime: 1604.0000\n",
            "Epoch 4/5\n",
            "914/915 [============================>.] - ETA: 0s - loss: 1.0232 - accuracy: 0.7134vallidation accuracy = 0.00017596339961288053\n",
            "915/915 [==============================] - 529s 578ms/step - loss: 1.0232 - accuracy: 0.7134 - val_loss: 0.9183 - val_accuracy: 0.7457 - validation accuracy: 1.7596e-04 - _timestamp: 1650550401.0000 - _runtime: 2133.0000\n",
            "Epoch 5/5\n",
            "915/915 [==============================] - ETA: 0s - loss: 0.9725 - accuracy: 0.7278vallidation accuracy = 0.00035192679922576106\n",
            "915/915 [==============================] - 528s 578ms/step - loss: 0.9725 - accuracy: 0.7278 - val_loss: 0.8799 - val_accuracy: 0.7557 - validation accuracy: 3.5193e-04 - _timestamp: 1650550929.0000 - _runtime: 2661.0000\n",
            "\n"
          ]
        },
        {
          "data": {
            "text/html": [
              "Waiting for W&B process to finish... <strong style=\"color:green\">(success).</strong>"
            ],
            "text/plain": [
              "<IPython.core.display.HTML object>"
            ]
          },
          "metadata": {},
          "output_type": "display_data"
        },
        {
          "data": {
            "application/vnd.jupyter.widget-view+json": {
              "model_id": "f5ca1a9105db4f5ab3440e1cce50b004",
              "version_major": 2,
              "version_minor": 0
            },
            "text/plain": [
              "VBox(children=(Label(value='0.002 MB of 0.002 MB uploaded (0.000 MB deduped)\\r'), FloatProgress(value=1.0, max…"
            ]
          },
          "metadata": {},
          "output_type": "display_data"
        },
        {
          "data": {
            "text/html": [
              "<style>\n",
              "    table.wandb td:nth-child(1) { padding: 0 10px; text-align: right }\n",
              "    .wandb-row { display: flex; flex-direction: row; flex-wrap: wrap; width: 100% }\n",
              "    .wandb-col { display: flex; flex-direction: column; flex-basis: 100%; flex: 1; padding: 10px; }\n",
              "    </style>\n",
              "<div class=\"wandb-row\"><div class=\"wandb-col\"><h3>Run history:</h3><br/><table class=\"wandb\"><tr><td>accuracy</td><td>▁▄▅▇█</td></tr><tr><td>epoch</td><td>▁▃▅▆█</td></tr><tr><td>loss</td><td>█▃▃▂▁</td></tr><tr><td>val_accuracy</td><td>▁▂▄▇█</td></tr><tr><td>val_loss</td><td>█▆▄▂▁</td></tr><tr><td>validation accuracy</td><td>▁▁▁▄█</td></tr></table><br/></div><div class=\"wandb-col\"><h3>Run summary:</h3><br/><table class=\"wandb\"><tr><td>accuracy</td><td>0.72781</td></tr><tr><td>epoch</td><td>4</td></tr><tr><td>loss</td><td>0.9725</td></tr><tr><td>val_accuracy</td><td>0.75569</td></tr><tr><td>val_loss</td><td>0.87989</td></tr><tr><td>validation accuracy</td><td>0.00035</td></tr></table><br/></div></div>"
            ],
            "text/plain": [
              "<IPython.core.display.HTML object>"
            ]
          },
          "metadata": {},
          "output_type": "display_data"
        },
        {
          "data": {
            "text/html": [
              "Synced <strong style=\"color:#cdcd00\">lilac-sweep-2</strong>: <a href=\"https://wandb.ai/vaibhav-kuldeep/assignment%203%20question%202_/runs/ysfmi4tr\" target=\"_blank\">https://wandb.ai/vaibhav-kuldeep/assignment%203%20question%202_/runs/ysfmi4tr</a><br/>Synced 5 W&B file(s), 1 media file(s), 0 artifact file(s) and 0 other file(s)"
            ],
            "text/plain": [
              "<IPython.core.display.HTML object>"
            ]
          },
          "metadata": {},
          "output_type": "display_data"
        },
        {
          "data": {
            "text/html": [
              "Find logs at: <code>./wandb/run-20220421_133748-ysfmi4tr/logs</code>"
            ],
            "text/plain": [
              "<IPython.core.display.HTML object>"
            ]
          },
          "metadata": {},
          "output_type": "display_data"
        },
        {
          "metadata": {
            "tags": null
          },
          "name": "stderr",
          "output_type": "stream",
          "text": [
            "\u001b[34m\u001b[1mwandb\u001b[0m: Sweep Agent: Waiting for job.\n",
            "\u001b[34m\u001b[1mwandb\u001b[0m: Job received.\n",
            "\u001b[34m\u001b[1mwandb\u001b[0m: Agent Starting Run: sdkk6ubz with config:\n",
            "\u001b[34m\u001b[1mwandb\u001b[0m: \tbatch_size: 64\n",
            "\u001b[34m\u001b[1mwandb\u001b[0m: \tcell: rnn\n",
            "\u001b[34m\u001b[1mwandb\u001b[0m: \tdecoder_layers_size: 3\n",
            "\u001b[34m\u001b[1mwandb\u001b[0m: \tdropouts: 0.3\n",
            "\u001b[34m\u001b[1mwandb\u001b[0m: \tembedding_size: 16\n",
            "\u001b[34m\u001b[1mwandb\u001b[0m: \tencoder_layers_size: 1\n",
            "\u001b[34m\u001b[1mwandb\u001b[0m: \tepochs: 6\n",
            "\u001b[34m\u001b[1mwandb\u001b[0m: \tlatent_dim: 32\n"
          ]
        },
        {
          "data": {
            "text/html": [
              "Tracking run with wandb version 0.12.14"
            ],
            "text/plain": [
              "<IPython.core.display.HTML object>"
            ]
          },
          "metadata": {},
          "output_type": "display_data"
        },
        {
          "data": {
            "text/html": [
              "Run data is saved locally in <code>/content/wandb/run-20220421_142227-sdkk6ubz</code>"
            ],
            "text/plain": [
              "<IPython.core.display.HTML object>"
            ]
          },
          "metadata": {},
          "output_type": "display_data"
        },
        {
          "data": {
            "text/html": [
              "Syncing run <strong><a href=\"https://wandb.ai/vaibhav-kuldeep/assignment%203%20question%202_/runs/sdkk6ubz\" target=\"_blank\">comfy-sweep-3</a></strong> to <a href=\"https://wandb.ai/vaibhav-kuldeep/assignment%203%20question%202_\" target=\"_blank\">Weights & Biases</a> (<a href=\"https://wandb.me/run\" target=\"_blank\">docs</a>)<br/>Sweep page:  <a href=\"https://wandb.ai/vaibhav-kuldeep/assignment%203%20question%202_/sweeps/wbidaosr\" target=\"_blank\">https://wandb.ai/vaibhav-kuldeep/assignment%203%20question%202_/sweeps/wbidaosr</a>"
            ],
            "text/plain": [
              "<IPython.core.display.HTML object>"
            ]
          },
          "metadata": {},
          "output_type": "display_data"
        },
        {
          "metadata": {
            "tags": null
          },
          "name": "stdout",
          "output_type": "stream",
          "text": [
            "Epoch 1/6\n",
            "914/915 [============================>.] - ETA: 0s - loss: 1.2986 - accuracy: 0.6715vallidation accuracy = 0.0\n",
            "915/915 [==============================] - 564s 613ms/step - loss: 1.2984 - accuracy: 0.6715 - val_loss: 0.9976 - val_accuracy: 0.7149 - validation accuracy: 0.0000e+00 - _timestamp: 1650551518.0000 - _runtime: 571.0000\n",
            "Epoch 2/6\n",
            "915/915 [==============================] - ETA: 0s - loss: 1.0662 - accuracy: 0.6949vallidation accuracy = 0.0\n",
            "915/915 [==============================] - 560s 613ms/step - loss: 1.0662 - accuracy: 0.6949 - val_loss: 0.9620 - val_accuracy: 0.7258 - validation accuracy: 0.0000e+00 - _timestamp: 1650552078.0000 - _runtime: 1131.0000\n",
            "Epoch 3/6\n",
            "915/915 [==============================] - ETA: 0s - loss: 1.0284 - accuracy: 0.7074vallidation accuracy = 0.0\n",
            "915/915 [==============================] - 559s 612ms/step - loss: 1.0284 - accuracy: 0.7074 - val_loss: 0.9151 - val_accuracy: 0.7434 - validation accuracy: 0.0000e+00 - _timestamp: 1650552637.0000 - _runtime: 1690.0000\n",
            "Epoch 4/6\n",
            "915/915 [==============================] - ETA: 0s - loss: 0.9898 - accuracy: 0.7192vallidation accuracy = 0.0\n",
            "915/915 [==============================] - 557s 610ms/step - loss: 0.9898 - accuracy: 0.7192 - val_loss: 0.8786 - val_accuracy: 0.7531 - validation accuracy: 0.0000e+00 - _timestamp: 1650553195.0000 - _runtime: 2248.0000\n",
            "Epoch 5/6\n",
            "914/915 [============================>.] - ETA: 0s - loss: 0.9598 - accuracy: 0.7267vallidation accuracy = 0.0\n",
            "915/915 [==============================] - 558s 610ms/step - loss: 0.9598 - accuracy: 0.7267 - val_loss: 0.8561 - val_accuracy: 0.7569 - validation accuracy: 0.0000e+00 - _timestamp: 1650553752.0000 - _runtime: 2805.0000\n",
            "Epoch 6/6\n",
            "914/915 [============================>.] - ETA: 0s - loss: 0.9374 - accuracy: 0.7320vallidation accuracy = 0.0\n",
            "915/915 [==============================] - 560s 612ms/step - loss: 0.9374 - accuracy: 0.7320 - val_loss: 0.8265 - val_accuracy: 0.7653 - validation accuracy: 0.0000e+00 - _timestamp: 1650554312.0000 - _runtime: 3365.0000\n",
            "\n"
          ]
        },
        {
          "data": {
            "text/html": [
              "Waiting for W&B process to finish... <strong style=\"color:green\">(success).</strong>"
            ],
            "text/plain": [
              "<IPython.core.display.HTML object>"
            ]
          },
          "metadata": {},
          "output_type": "display_data"
        },
        {
          "data": {
            "application/vnd.jupyter.widget-view+json": {
              "model_id": "7946adf703d24305ad497e49485d4560",
              "version_major": 2,
              "version_minor": 0
            },
            "text/plain": [
              "VBox(children=(Label(value='0.002 MB of 0.002 MB uploaded (0.000 MB deduped)\\r'), FloatProgress(value=1.0, max…"
            ]
          },
          "metadata": {},
          "output_type": "display_data"
        },
        {
          "data": {
            "text/html": [
              "<style>\n",
              "    table.wandb td:nth-child(1) { padding: 0 10px; text-align: right }\n",
              "    .wandb-row { display: flex; flex-direction: row; flex-wrap: wrap; width: 100% }\n",
              "    .wandb-col { display: flex; flex-direction: column; flex-basis: 100%; flex: 1; padding: 10px; }\n",
              "    </style>\n",
              "<div class=\"wandb-row\"><div class=\"wandb-col\"><h3>Run history:</h3><br/><table class=\"wandb\"><tr><td>accuracy</td><td>▁▄▅▇▇█</td></tr><tr><td>epoch</td><td>▁▂▄▅▇█</td></tr><tr><td>loss</td><td>█▃▃▂▁▁</td></tr><tr><td>val_accuracy</td><td>▁▃▅▆▇█</td></tr><tr><td>val_loss</td><td>█▇▅▃▂▁</td></tr><tr><td>validation accuracy</td><td>▁▁▁▁▁▁</td></tr></table><br/></div><div class=\"wandb-col\"><h3>Run summary:</h3><br/><table class=\"wandb\"><tr><td>accuracy</td><td>0.73202</td></tr><tr><td>epoch</td><td>5</td></tr><tr><td>loss</td><td>0.93744</td></tr><tr><td>val_accuracy</td><td>0.76526</td></tr><tr><td>val_loss</td><td>0.82654</td></tr><tr><td>validation accuracy</td><td>0.0</td></tr></table><br/></div></div>"
            ],
            "text/plain": [
              "<IPython.core.display.HTML object>"
            ]
          },
          "metadata": {},
          "output_type": "display_data"
        },
        {
          "data": {
            "text/html": [
              "Synced <strong style=\"color:#cdcd00\">comfy-sweep-3</strong>: <a href=\"https://wandb.ai/vaibhav-kuldeep/assignment%203%20question%202_/runs/sdkk6ubz\" target=\"_blank\">https://wandb.ai/vaibhav-kuldeep/assignment%203%20question%202_/runs/sdkk6ubz</a><br/>Synced 5 W&B file(s), 1 media file(s), 0 artifact file(s) and 0 other file(s)"
            ],
            "text/plain": [
              "<IPython.core.display.HTML object>"
            ]
          },
          "metadata": {},
          "output_type": "display_data"
        },
        {
          "data": {
            "text/html": [
              "Find logs at: <code>./wandb/run-20220421_142227-sdkk6ubz/logs</code>"
            ],
            "text/plain": [
              "<IPython.core.display.HTML object>"
            ]
          },
          "metadata": {},
          "output_type": "display_data"
        },
        {
          "metadata": {
            "tags": null
          },
          "name": "stderr",
          "output_type": "stream",
          "text": [
            "\u001b[34m\u001b[1mwandb\u001b[0m: Sweep Agent: Waiting for job.\n",
            "\u001b[34m\u001b[1mwandb\u001b[0m: Job received.\n",
            "\u001b[34m\u001b[1mwandb\u001b[0m: Agent Starting Run: zpu2hh3q with config:\n",
            "\u001b[34m\u001b[1mwandb\u001b[0m: \tbatch_size: 32\n",
            "\u001b[34m\u001b[1mwandb\u001b[0m: \tcell: gru\n",
            "\u001b[34m\u001b[1mwandb\u001b[0m: \tdecoder_layers_size: 2\n",
            "\u001b[34m\u001b[1mwandb\u001b[0m: \tdropouts: 0.2\n",
            "\u001b[34m\u001b[1mwandb\u001b[0m: \tembedding_size: 12\n",
            "\u001b[34m\u001b[1mwandb\u001b[0m: \tencoder_layers_size: 3\n",
            "\u001b[34m\u001b[1mwandb\u001b[0m: \tepochs: 6\n",
            "\u001b[34m\u001b[1mwandb\u001b[0m: \tlatent_dim: 128\n"
          ]
        },
        {
          "data": {
            "text/html": [
              "Tracking run with wandb version 0.12.14"
            ],
            "text/plain": [
              "<IPython.core.display.HTML object>"
            ]
          },
          "metadata": {},
          "output_type": "display_data"
        },
        {
          "data": {
            "text/html": [
              "Run data is saved locally in <code>/content/wandb/run-20220421_151917-zpu2hh3q</code>"
            ],
            "text/plain": [
              "<IPython.core.display.HTML object>"
            ]
          },
          "metadata": {},
          "output_type": "display_data"
        },
        {
          "data": {
            "text/html": [
              "Syncing run <strong><a href=\"https://wandb.ai/vaibhav-kuldeep/assignment%203%20question%202_/runs/zpu2hh3q\" target=\"_blank\">whole-sweep-4</a></strong> to <a href=\"https://wandb.ai/vaibhav-kuldeep/assignment%203%20question%202_\" target=\"_blank\">Weights & Biases</a> (<a href=\"https://wandb.me/run\" target=\"_blank\">docs</a>)<br/>Sweep page:  <a href=\"https://wandb.ai/vaibhav-kuldeep/assignment%203%20question%202_/sweeps/wbidaosr\" target=\"_blank\">https://wandb.ai/vaibhav-kuldeep/assignment%203%20question%202_/sweeps/wbidaosr</a>"
            ],
            "text/plain": [
              "<IPython.core.display.HTML object>"
            ]
          },
          "metadata": {},
          "output_type": "display_data"
        },
        {
          "metadata": {
            "tags": null
          },
          "name": "stdout",
          "output_type": "stream",
          "text": [
            "Epoch 1/6\n",
            "1830/1830 [==============================] - ETA: 0s - loss: 1.1017 - accuracy: 0.7001vallidation accuracy = 0.0005278901988386416\n",
            "1830/1830 [==============================] - 1041s 564ms/step - loss: 1.1017 - accuracy: 0.7001 - val_loss: 0.8048 - val_accuracy: 0.7706 - validation accuracy: 5.2789e-04 - _timestamp: 1650555407.0000 - _runtime: 1050.0000\n",
            "Epoch 2/6\n",
            "1830/1830 [==============================] - ETA: 0s - loss: 0.7381 - accuracy: 0.7842vallidation accuracy = 0.011261657575224354\n",
            "1830/1830 [==============================] - 1028s 562ms/step - loss: 0.7381 - accuracy: 0.7842 - val_loss: 0.5297 - val_accuracy: 0.8432 - validation accuracy: 0.0113 - _timestamp: 1650556435.0000 - _runtime: 2078.0000\n",
            "Epoch 3/6\n",
            "1830/1830 [==============================] - ETA: 0s - loss: 0.5022 - accuracy: 0.8491vallidation accuracy = 0.11314446595108217\n",
            "1830/1830 [==============================] - 1033s 565ms/step - loss: 0.5022 - accuracy: 0.8491 - val_loss: 0.3356 - val_accuracy: 0.9009 - validation accuracy: 0.1131 - _timestamp: 1650557467.0000 - _runtime: 3110.0000\n",
            "Epoch 4/6\n",
            "1830/1830 [==============================] - ETA: 0s - loss: 0.3524 - accuracy: 0.8935vallidation accuracy = 0.2079887383424248\n",
            "1830/1830 [==============================] - 1024s 560ms/step - loss: 0.3524 - accuracy: 0.8935 - val_loss: 0.2500 - val_accuracy: 0.9247 - validation accuracy: 0.2080 - _timestamp: 1650558492.0000 - _runtime: 4135.0000\n",
            "Epoch 5/6\n",
            "1830/1830 [==============================] - ETA: 0s - loss: 0.2760 - accuracy: 0.9162vallidation accuracy = 0.27362308639802924\n",
            "1830/1830 [==============================] - 1021s 558ms/step - loss: 0.2760 - accuracy: 0.9162 - val_loss: 0.2042 - val_accuracy: 0.9375 - validation accuracy: 0.2736 - _timestamp: 1650559513.0000 - _runtime: 5156.0000\n",
            "Epoch 6/6\n",
            "1830/1830 [==============================] - ETA: 0s - loss: 0.2292 - accuracy: 0.9300vallidation accuracy = 0.3323948618687313\n",
            "1830/1830 [==============================] - 1017s 556ms/step - loss: 0.2292 - accuracy: 0.9300 - val_loss: 0.1814 - val_accuracy: 0.9448 - validation accuracy: 0.3324 - _timestamp: 1650560530.0000 - _runtime: 6173.0000\n",
            "\n"
          ]
        },
        {
          "data": {
            "text/html": [
              "Waiting for W&B process to finish... <strong style=\"color:green\">(success).</strong>"
            ],
            "text/plain": [
              "<IPython.core.display.HTML object>"
            ]
          },
          "metadata": {},
          "output_type": "display_data"
        },
        {
          "data": {
            "application/vnd.jupyter.widget-view+json": {
              "model_id": "85280c8040fd4a5ba6dfea5932220463",
              "version_major": 2,
              "version_minor": 0
            },
            "text/plain": [
              "VBox(children=(Label(value='0.002 MB of 0.002 MB uploaded (0.000 MB deduped)\\r'), FloatProgress(value=1.0, max…"
            ]
          },
          "metadata": {},
          "output_type": "display_data"
        },
        {
          "data": {
            "text/html": [
              "<style>\n",
              "    table.wandb td:nth-child(1) { padding: 0 10px; text-align: right }\n",
              "    .wandb-row { display: flex; flex-direction: row; flex-wrap: wrap; width: 100% }\n",
              "    .wandb-col { display: flex; flex-direction: column; flex-basis: 100%; flex: 1; padding: 10px; }\n",
              "    </style>\n",
              "<div class=\"wandb-row\"><div class=\"wandb-col\"><h3>Run history:</h3><br/><table class=\"wandb\"><tr><td>accuracy</td><td>▁▄▆▇██</td></tr><tr><td>epoch</td><td>▁▂▄▅▇█</td></tr><tr><td>loss</td><td>█▅▃▂▁▁</td></tr><tr><td>val_accuracy</td><td>▁▄▆▇██</td></tr><tr><td>val_loss</td><td>█▅▃▂▁▁</td></tr><tr><td>validation accuracy</td><td>▁▁▃▅▇█</td></tr></table><br/></div><div class=\"wandb-col\"><h3>Run summary:</h3><br/><table class=\"wandb\"><tr><td>accuracy</td><td>0.93</td></tr><tr><td>epoch</td><td>5</td></tr><tr><td>loss</td><td>0.22923</td></tr><tr><td>val_accuracy</td><td>0.94481</td></tr><tr><td>val_loss</td><td>0.18143</td></tr><tr><td>validation accuracy</td><td>0.33239</td></tr></table><br/></div></div>"
            ],
            "text/plain": [
              "<IPython.core.display.HTML object>"
            ]
          },
          "metadata": {},
          "output_type": "display_data"
        },
        {
          "data": {
            "text/html": [
              "Synced <strong style=\"color:#cdcd00\">whole-sweep-4</strong>: <a href=\"https://wandb.ai/vaibhav-kuldeep/assignment%203%20question%202_/runs/zpu2hh3q\" target=\"_blank\">https://wandb.ai/vaibhav-kuldeep/assignment%203%20question%202_/runs/zpu2hh3q</a><br/>Synced 5 W&B file(s), 1 media file(s), 0 artifact file(s) and 0 other file(s)"
            ],
            "text/plain": [
              "<IPython.core.display.HTML object>"
            ]
          },
          "metadata": {},
          "output_type": "display_data"
        },
        {
          "data": {
            "text/html": [
              "Find logs at: <code>./wandb/run-20220421_151917-zpu2hh3q/logs</code>"
            ],
            "text/plain": [
              "<IPython.core.display.HTML object>"
            ]
          },
          "metadata": {},
          "output_type": "display_data"
        },
        {
          "metadata": {
            "tags": null
          },
          "name": "stderr",
          "output_type": "stream",
          "text": [
            "\u001b[34m\u001b[1mwandb\u001b[0m: Agent Starting Run: u0zxg3bh with config:\n",
            "\u001b[34m\u001b[1mwandb\u001b[0m: \tbatch_size: 32\n",
            "\u001b[34m\u001b[1mwandb\u001b[0m: \tcell: gru\n",
            "\u001b[34m\u001b[1mwandb\u001b[0m: \tdecoder_layers_size: 2\n",
            "\u001b[34m\u001b[1mwandb\u001b[0m: \tdropouts: 0\n",
            "\u001b[34m\u001b[1mwandb\u001b[0m: \tembedding_size: 12\n",
            "\u001b[34m\u001b[1mwandb\u001b[0m: \tencoder_layers_size: 3\n",
            "\u001b[34m\u001b[1mwandb\u001b[0m: \tepochs: 3\n",
            "\u001b[34m\u001b[1mwandb\u001b[0m: \tlatent_dim: 16\n"
          ]
        },
        {
          "data": {
            "text/html": [
              "wandb version 0.12.15 is available!  To upgrade, please run:\n",
              " $ pip install wandb --upgrade"
            ],
            "text/plain": [
              "<IPython.core.display.HTML object>"
            ]
          },
          "metadata": {},
          "output_type": "display_data"
        },
        {
          "data": {
            "text/html": [
              "Tracking run with wandb version 0.12.14"
            ],
            "text/plain": [
              "<IPython.core.display.HTML object>"
            ]
          },
          "metadata": {},
          "output_type": "display_data"
        },
        {
          "data": {
            "text/html": [
              "Run data is saved locally in <code>/content/wandb/run-20220421_170308-u0zxg3bh</code>"
            ],
            "text/plain": [
              "<IPython.core.display.HTML object>"
            ]
          },
          "metadata": {},
          "output_type": "display_data"
        },
        {
          "data": {
            "text/html": [
              "Syncing run <strong><a href=\"https://wandb.ai/vaibhav-kuldeep/assignment%203%20question%202_/runs/u0zxg3bh\" target=\"_blank\">polished-sweep-5</a></strong> to <a href=\"https://wandb.ai/vaibhav-kuldeep/assignment%203%20question%202_\" target=\"_blank\">Weights & Biases</a> (<a href=\"https://wandb.me/run\" target=\"_blank\">docs</a>)<br/>Sweep page:  <a href=\"https://wandb.ai/vaibhav-kuldeep/assignment%203%20question%202_/sweeps/wbidaosr\" target=\"_blank\">https://wandb.ai/vaibhav-kuldeep/assignment%203%20question%202_/sweeps/wbidaosr</a>"
            ],
            "text/plain": [
              "<IPython.core.display.HTML object>"
            ]
          },
          "metadata": {},
          "output_type": "display_data"
        },
        {
          "metadata": {
            "tags": null
          },
          "name": "stdout",
          "output_type": "stream",
          "text": [
            "Epoch 1/3\n",
            "1830/1830 [==============================] - ETA: 0s - loss: 1.3552 - accuracy: 0.6662vallidation accuracy = 0.0\n",
            "1830/1830 [==============================] - 869s 470ms/step - loss: 1.3552 - accuracy: 0.6662 - val_loss: 1.0113 - val_accuracy: 0.7117 - validation accuracy: 0.0000e+00 - _timestamp: 1650561466.0000 - _runtime: 878.0000\n",
            "Epoch 2/3\n",
            "1830/1830 [==============================] - ETA: 0s - loss: 1.0449 - accuracy: 0.7019vallidation accuracy = 0.0\n",
            "1830/1830 [==============================] - 860s 470ms/step - loss: 1.0449 - accuracy: 0.7019 - val_loss: 0.9532 - val_accuracy: 0.7299 - validation accuracy: 0.0000e+00 - _timestamp: 1650562326.0000 - _runtime: 1738.0000\n",
            "Epoch 3/3\n",
            "1830/1830 [==============================] - ETA: 0s - loss: 0.9883 - accuracy: 0.7197vallidation accuracy = 0.0\n",
            "1830/1830 [==============================] - 872s 477ms/step - loss: 0.9883 - accuracy: 0.7197 - val_loss: 0.8877 - val_accuracy: 0.7465 - validation accuracy: 0.0000e+00 - _timestamp: 1650563198.0000 - _runtime: 2610.0000\n",
            "\n"
          ]
        },
        {
          "data": {
            "text/html": [
              "Waiting for W&B process to finish... <strong style=\"color:green\">(success).</strong>"
            ],
            "text/plain": [
              "<IPython.core.display.HTML object>"
            ]
          },
          "metadata": {},
          "output_type": "display_data"
        },
        {
          "data": {
            "application/vnd.jupyter.widget-view+json": {
              "model_id": "ec1127e801b245f4bd4b24fc55dd13f2",
              "version_major": 2,
              "version_minor": 0
            },
            "text/plain": [
              "VBox(children=(Label(value='0.002 MB of 0.002 MB uploaded (0.000 MB deduped)\\r'), FloatProgress(value=1.0, max…"
            ]
          },
          "metadata": {},
          "output_type": "display_data"
        },
        {
          "data": {
            "text/html": [
              "<style>\n",
              "    table.wandb td:nth-child(1) { padding: 0 10px; text-align: right }\n",
              "    .wandb-row { display: flex; flex-direction: row; flex-wrap: wrap; width: 100% }\n",
              "    .wandb-col { display: flex; flex-direction: column; flex-basis: 100%; flex: 1; padding: 10px; }\n",
              "    </style>\n",
              "<div class=\"wandb-row\"><div class=\"wandb-col\"><h3>Run history:</h3><br/><table class=\"wandb\"><tr><td>accuracy</td><td>▁▆█</td></tr><tr><td>epoch</td><td>▁▅█</td></tr><tr><td>loss</td><td>█▂▁</td></tr><tr><td>val_accuracy</td><td>▁▅█</td></tr><tr><td>val_loss</td><td>█▅▁</td></tr><tr><td>validation accuracy</td><td>▁▁▁</td></tr></table><br/></div><div class=\"wandb-col\"><h3>Run summary:</h3><br/><table class=\"wandb\"><tr><td>accuracy</td><td>0.71965</td></tr><tr><td>epoch</td><td>2</td></tr><tr><td>loss</td><td>0.98827</td></tr><tr><td>val_accuracy</td><td>0.74647</td></tr><tr><td>val_loss</td><td>0.88769</td></tr><tr><td>validation accuracy</td><td>0.0</td></tr></table><br/></div></div>"
            ],
            "text/plain": [
              "<IPython.core.display.HTML object>"
            ]
          },
          "metadata": {},
          "output_type": "display_data"
        },
        {
          "data": {
            "text/html": [
              "Synced <strong style=\"color:#cdcd00\">polished-sweep-5</strong>: <a href=\"https://wandb.ai/vaibhav-kuldeep/assignment%203%20question%202_/runs/u0zxg3bh\" target=\"_blank\">https://wandb.ai/vaibhav-kuldeep/assignment%203%20question%202_/runs/u0zxg3bh</a><br/>Synced 5 W&B file(s), 1 media file(s), 0 artifact file(s) and 0 other file(s)"
            ],
            "text/plain": [
              "<IPython.core.display.HTML object>"
            ]
          },
          "metadata": {},
          "output_type": "display_data"
        },
        {
          "data": {
            "text/html": [
              "Find logs at: <code>./wandb/run-20220421_170308-u0zxg3bh/logs</code>"
            ],
            "text/plain": [
              "<IPython.core.display.HTML object>"
            ]
          },
          "metadata": {},
          "output_type": "display_data"
        },
        {
          "metadata": {
            "tags": null
          },
          "name": "stderr",
          "output_type": "stream",
          "text": [
            "\u001b[34m\u001b[1mwandb\u001b[0m: Agent Starting Run: aqrwgrxl with config:\n",
            "\u001b[34m\u001b[1mwandb\u001b[0m: \tbatch_size: 64\n",
            "\u001b[34m\u001b[1mwandb\u001b[0m: \tcell: gru\n",
            "\u001b[34m\u001b[1mwandb\u001b[0m: \tdecoder_layers_size: 1\n",
            "\u001b[34m\u001b[1mwandb\u001b[0m: \tdropouts: 0.4\n",
            "\u001b[34m\u001b[1mwandb\u001b[0m: \tembedding_size: 12\n",
            "\u001b[34m\u001b[1mwandb\u001b[0m: \tencoder_layers_size: 1\n",
            "\u001b[34m\u001b[1mwandb\u001b[0m: \tepochs: 3\n",
            "\u001b[34m\u001b[1mwandb\u001b[0m: \tlatent_dim: 16\n"
          ]
        },
        {
          "data": {
            "text/html": [
              "wandb version 0.12.15 is available!  To upgrade, please run:\n",
              " $ pip install wandb --upgrade"
            ],
            "text/plain": [
              "<IPython.core.display.HTML object>"
            ]
          },
          "metadata": {},
          "output_type": "display_data"
        },
        {
          "data": {
            "text/html": [
              "Tracking run with wandb version 0.12.14"
            ],
            "text/plain": [
              "<IPython.core.display.HTML object>"
            ]
          },
          "metadata": {},
          "output_type": "display_data"
        },
        {
          "data": {
            "text/html": [
              "Run data is saved locally in <code>/content/wandb/run-20220421_174650-aqrwgrxl</code>"
            ],
            "text/plain": [
              "<IPython.core.display.HTML object>"
            ]
          },
          "metadata": {},
          "output_type": "display_data"
        },
        {
          "data": {
            "text/html": [
              "Syncing run <strong><a href=\"https://wandb.ai/vaibhav-kuldeep/assignment%203%20question%202_/runs/aqrwgrxl\" target=\"_blank\">skilled-sweep-6</a></strong> to <a href=\"https://wandb.ai/vaibhav-kuldeep/assignment%203%20question%202_\" target=\"_blank\">Weights & Biases</a> (<a href=\"https://wandb.me/run\" target=\"_blank\">docs</a>)<br/>Sweep page:  <a href=\"https://wandb.ai/vaibhav-kuldeep/assignment%203%20question%202_/sweeps/wbidaosr\" target=\"_blank\">https://wandb.ai/vaibhav-kuldeep/assignment%203%20question%202_/sweeps/wbidaosr</a>"
            ],
            "text/plain": [
              "<IPython.core.display.HTML object>"
            ]
          },
          "metadata": {},
          "output_type": "display_data"
        },
        {
          "metadata": {
            "tags": null
          },
          "name": "stdout",
          "output_type": "stream",
          "text": [
            "Epoch 1/3\n",
            "914/915 [============================>.] - ETA: 0s - loss: 1.5852 - accuracy: 0.6468vallidation accuracy = 0.0\n",
            "915/915 [==============================] - 373s 403ms/step - loss: 1.5849 - accuracy: 0.6468 - val_loss: 1.1579 - val_accuracy: 0.6947 - validation accuracy: 0.0000e+00 - _timestamp: 1650563595.0000 - _runtime: 384.0000\n",
            "Epoch 2/3\n",
            "915/915 [==============================] - ETA: 0s - loss: 1.1419 - accuracy: 0.6860vallidation accuracy = 0.0\n",
            "915/915 [==============================] - 368s 402ms/step - loss: 1.1419 - accuracy: 0.6860 - val_loss: 1.0041 - val_accuracy: 0.7150 - validation accuracy: 0.0000e+00 - _timestamp: 1650563963.0000 - _runtime: 752.0000\n",
            "Epoch 3/3\n",
            "915/915 [==============================] - ETA: 0s - loss: 1.0592 - accuracy: 0.6991vallidation accuracy = 0.0\n",
            "915/915 [==============================] - 366s 400ms/step - loss: 1.0592 - accuracy: 0.6991 - val_loss: 0.9698 - val_accuracy: 0.7285 - validation accuracy: 0.0000e+00 - _timestamp: 1650564329.0000 - _runtime: 1118.0000\n",
            "\n"
          ]
        },
        {
          "data": {
            "text/html": [
              "Waiting for W&B process to finish... <strong style=\"color:green\">(success).</strong>"
            ],
            "text/plain": [
              "<IPython.core.display.HTML object>"
            ]
          },
          "metadata": {},
          "output_type": "display_data"
        },
        {
          "data": {
            "application/vnd.jupyter.widget-view+json": {
              "model_id": "4af2e5960736484493cb248897ebe02c",
              "version_major": 2,
              "version_minor": 0
            },
            "text/plain": [
              "VBox(children=(Label(value='0.002 MB of 0.002 MB uploaded (0.000 MB deduped)\\r'), FloatProgress(value=1.0, max…"
            ]
          },
          "metadata": {},
          "output_type": "display_data"
        },
        {
          "data": {
            "text/html": [
              "<style>\n",
              "    table.wandb td:nth-child(1) { padding: 0 10px; text-align: right }\n",
              "    .wandb-row { display: flex; flex-direction: row; flex-wrap: wrap; width: 100% }\n",
              "    .wandb-col { display: flex; flex-direction: column; flex-basis: 100%; flex: 1; padding: 10px; }\n",
              "    </style>\n",
              "<div class=\"wandb-row\"><div class=\"wandb-col\"><h3>Run history:</h3><br/><table class=\"wandb\"><tr><td>accuracy</td><td>▁▆█</td></tr><tr><td>epoch</td><td>▁▅█</td></tr><tr><td>loss</td><td>█▂▁</td></tr><tr><td>val_accuracy</td><td>▁▅█</td></tr><tr><td>val_loss</td><td>█▂▁</td></tr><tr><td>validation accuracy</td><td>▁▁▁</td></tr></table><br/></div><div class=\"wandb-col\"><h3>Run summary:</h3><br/><table class=\"wandb\"><tr><td>accuracy</td><td>0.69909</td></tr><tr><td>epoch</td><td>2</td></tr><tr><td>loss</td><td>1.05924</td></tr><tr><td>val_accuracy</td><td>0.72851</td></tr><tr><td>val_loss</td><td>0.96982</td></tr><tr><td>validation accuracy</td><td>0.0</td></tr></table><br/></div></div>"
            ],
            "text/plain": [
              "<IPython.core.display.HTML object>"
            ]
          },
          "metadata": {},
          "output_type": "display_data"
        },
        {
          "data": {
            "text/html": [
              "Synced <strong style=\"color:#cdcd00\">skilled-sweep-6</strong>: <a href=\"https://wandb.ai/vaibhav-kuldeep/assignment%203%20question%202_/runs/aqrwgrxl\" target=\"_blank\">https://wandb.ai/vaibhav-kuldeep/assignment%203%20question%202_/runs/aqrwgrxl</a><br/>Synced 5 W&B file(s), 1 media file(s), 0 artifact file(s) and 0 other file(s)"
            ],
            "text/plain": [
              "<IPython.core.display.HTML object>"
            ]
          },
          "metadata": {},
          "output_type": "display_data"
        },
        {
          "data": {
            "text/html": [
              "Find logs at: <code>./wandb/run-20220421_174650-aqrwgrxl/logs</code>"
            ],
            "text/plain": [
              "<IPython.core.display.HTML object>"
            ]
          },
          "metadata": {},
          "output_type": "display_data"
        },
        {
          "metadata": {
            "tags": null
          },
          "name": "stderr",
          "output_type": "stream",
          "text": [
            "\u001b[34m\u001b[1mwandb\u001b[0m: Agent Starting Run: uxd7o5mb with config:\n",
            "\u001b[34m\u001b[1mwandb\u001b[0m: \tbatch_size: 64\n",
            "\u001b[34m\u001b[1mwandb\u001b[0m: \tcell: gru\n",
            "\u001b[34m\u001b[1mwandb\u001b[0m: \tdecoder_layers_size: 3\n",
            "\u001b[34m\u001b[1mwandb\u001b[0m: \tdropouts: 0\n",
            "\u001b[34m\u001b[1mwandb\u001b[0m: \tembedding_size: 8\n",
            "\u001b[34m\u001b[1mwandb\u001b[0m: \tencoder_layers_size: 1\n",
            "\u001b[34m\u001b[1mwandb\u001b[0m: \tepochs: 3\n",
            "\u001b[34m\u001b[1mwandb\u001b[0m: \tlatent_dim: 32\n"
          ]
        },
        {
          "data": {
            "text/html": [
              "wandb version 0.12.15 is available!  To upgrade, please run:\n",
              " $ pip install wandb --upgrade"
            ],
            "text/plain": [
              "<IPython.core.display.HTML object>"
            ]
          },
          "metadata": {},
          "output_type": "display_data"
        },
        {
          "data": {
            "text/html": [
              "Tracking run with wandb version 0.12.14"
            ],
            "text/plain": [
              "<IPython.core.display.HTML object>"
            ]
          },
          "metadata": {},
          "output_type": "display_data"
        },
        {
          "data": {
            "text/html": [
              "Run data is saved locally in <code>/content/wandb/run-20220421_180539-uxd7o5mb</code>"
            ],
            "text/plain": [
              "<IPython.core.display.HTML object>"
            ]
          },
          "metadata": {},
          "output_type": "display_data"
        },
        {
          "data": {
            "text/html": [
              "Syncing run <strong><a href=\"https://wandb.ai/vaibhav-kuldeep/assignment%203%20question%202_/runs/uxd7o5mb\" target=\"_blank\">swept-sweep-7</a></strong> to <a href=\"https://wandb.ai/vaibhav-kuldeep/assignment%203%20question%202_\" target=\"_blank\">Weights & Biases</a> (<a href=\"https://wandb.me/run\" target=\"_blank\">docs</a>)<br/>Sweep page:  <a href=\"https://wandb.ai/vaibhav-kuldeep/assignment%203%20question%202_/sweeps/wbidaosr\" target=\"_blank\">https://wandb.ai/vaibhav-kuldeep/assignment%203%20question%202_/sweeps/wbidaosr</a>"
            ],
            "text/plain": [
              "<IPython.core.display.HTML object>"
            ]
          },
          "metadata": {},
          "output_type": "display_data"
        },
        {
          "metadata": {
            "tags": null
          },
          "name": "stdout",
          "output_type": "stream",
          "text": [
            "Epoch 1/3\n",
            "914/915 [============================>.] - ETA: 0s - loss: 1.3933 - accuracy: 0.6592vallidation accuracy = 0.0\n",
            "915/915 [==============================] - 646s 699ms/step - loss: 1.3931 - accuracy: 0.6592 - val_loss: 1.0907 - val_accuracy: 0.7058 - validation accuracy: 0.0000e+00 - _timestamp: 1650564994.0000 - _runtime: 655.0000\n",
            "Epoch 2/3\n",
            "915/915 [==============================] - ETA: 0s - loss: 1.0635 - accuracy: 0.6977vallidation accuracy = 0.0\n",
            "915/915 [==============================] - 636s 695ms/step - loss: 1.0635 - accuracy: 0.6977 - val_loss: 0.9581 - val_accuracy: 0.7246 - validation accuracy: 0.0000e+00 - _timestamp: 1650565630.0000 - _runtime: 1291.0000\n",
            "Epoch 3/3\n",
            "915/915 [==============================] - ETA: 0s - loss: 0.9993 - accuracy: 0.7121vallidation accuracy = 0.0\n",
            "915/915 [==============================] - 632s 692ms/step - loss: 0.9993 - accuracy: 0.7121 - val_loss: 0.9189 - val_accuracy: 0.7342 - validation accuracy: 0.0000e+00 - _timestamp: 1650566262.0000 - _runtime: 1923.0000\n",
            "\n"
          ]
        },
        {
          "data": {
            "text/html": [
              "Waiting for W&B process to finish... <strong style=\"color:green\">(success).</strong>"
            ],
            "text/plain": [
              "<IPython.core.display.HTML object>"
            ]
          },
          "metadata": {},
          "output_type": "display_data"
        },
        {
          "data": {
            "application/vnd.jupyter.widget-view+json": {
              "model_id": "1d24c19b1dca4ec3a547ee33fea6d58e",
              "version_major": 2,
              "version_minor": 0
            },
            "text/plain": [
              "VBox(children=(Label(value='0.002 MB of 0.002 MB uploaded (0.000 MB deduped)\\r'), FloatProgress(value=1.0, max…"
            ]
          },
          "metadata": {},
          "output_type": "display_data"
        },
        {
          "data": {
            "text/html": [
              "<style>\n",
              "    table.wandb td:nth-child(1) { padding: 0 10px; text-align: right }\n",
              "    .wandb-row { display: flex; flex-direction: row; flex-wrap: wrap; width: 100% }\n",
              "    .wandb-col { display: flex; flex-direction: column; flex-basis: 100%; flex: 1; padding: 10px; }\n",
              "    </style>\n",
              "<div class=\"wandb-row\"><div class=\"wandb-col\"><h3>Run history:</h3><br/><table class=\"wandb\"><tr><td>accuracy</td><td>▁▆█</td></tr><tr><td>epoch</td><td>▁▅█</td></tr><tr><td>loss</td><td>█▂▁</td></tr><tr><td>val_accuracy</td><td>▁▆█</td></tr><tr><td>val_loss</td><td>█▃▁</td></tr><tr><td>validation accuracy</td><td>▁▁▁</td></tr></table><br/></div><div class=\"wandb-col\"><h3>Run summary:</h3><br/><table class=\"wandb\"><tr><td>accuracy</td><td>0.71212</td></tr><tr><td>epoch</td><td>2</td></tr><tr><td>loss</td><td>0.9993</td></tr><tr><td>val_accuracy</td><td>0.73424</td></tr><tr><td>val_loss</td><td>0.91889</td></tr><tr><td>validation accuracy</td><td>0.0</td></tr></table><br/></div></div>"
            ],
            "text/plain": [
              "<IPython.core.display.HTML object>"
            ]
          },
          "metadata": {},
          "output_type": "display_data"
        },
        {
          "data": {
            "text/html": [
              "Synced <strong style=\"color:#cdcd00\">swept-sweep-7</strong>: <a href=\"https://wandb.ai/vaibhav-kuldeep/assignment%203%20question%202_/runs/uxd7o5mb\" target=\"_blank\">https://wandb.ai/vaibhav-kuldeep/assignment%203%20question%202_/runs/uxd7o5mb</a><br/>Synced 5 W&B file(s), 1 media file(s), 0 artifact file(s) and 0 other file(s)"
            ],
            "text/plain": [
              "<IPython.core.display.HTML object>"
            ]
          },
          "metadata": {},
          "output_type": "display_data"
        },
        {
          "data": {
            "text/html": [
              "Find logs at: <code>./wandb/run-20220421_180539-uxd7o5mb/logs</code>"
            ],
            "text/plain": [
              "<IPython.core.display.HTML object>"
            ]
          },
          "metadata": {},
          "output_type": "display_data"
        },
        {
          "metadata": {
            "tags": null
          },
          "name": "stderr",
          "output_type": "stream",
          "text": [
            "\u001b[34m\u001b[1mwandb\u001b[0m: Agent Starting Run: staeiegm with config:\n",
            "\u001b[34m\u001b[1mwandb\u001b[0m: \tbatch_size: 32\n",
            "\u001b[34m\u001b[1mwandb\u001b[0m: \tcell: lstm\n",
            "\u001b[34m\u001b[1mwandb\u001b[0m: \tdecoder_layers_size: 3\n",
            "\u001b[34m\u001b[1mwandb\u001b[0m: \tdropouts: 0\n",
            "\u001b[34m\u001b[1mwandb\u001b[0m: \tembedding_size: 20\n",
            "\u001b[34m\u001b[1mwandb\u001b[0m: \tencoder_layers_size: 2\n",
            "\u001b[34m\u001b[1mwandb\u001b[0m: \tepochs: 5\n",
            "\u001b[34m\u001b[1mwandb\u001b[0m: \tlatent_dim: 512\n"
          ]
        },
        {
          "data": {
            "text/html": [
              "wandb version 0.12.15 is available!  To upgrade, please run:\n",
              " $ pip install wandb --upgrade"
            ],
            "text/plain": [
              "<IPython.core.display.HTML object>"
            ]
          },
          "metadata": {},
          "output_type": "display_data"
        },
        {
          "data": {
            "text/html": [
              "Tracking run with wandb version 0.12.14"
            ],
            "text/plain": [
              "<IPython.core.display.HTML object>"
            ]
          },
          "metadata": {},
          "output_type": "display_data"
        },
        {
          "data": {
            "text/html": [
              "Run data is saved locally in <code>/content/wandb/run-20220421_183828-staeiegm</code>"
            ],
            "text/plain": [
              "<IPython.core.display.HTML object>"
            ]
          },
          "metadata": {},
          "output_type": "display_data"
        },
        {
          "data": {
            "text/html": [
              "Syncing run <strong><a href=\"https://wandb.ai/vaibhav-kuldeep/assignment%203%20question%202_/runs/staeiegm\" target=\"_blank\">charmed-sweep-8</a></strong> to <a href=\"https://wandb.ai/vaibhav-kuldeep/assignment%203%20question%202_\" target=\"_blank\">Weights & Biases</a> (<a href=\"https://wandb.me/run\" target=\"_blank\">docs</a>)<br/>Sweep page:  <a href=\"https://wandb.ai/vaibhav-kuldeep/assignment%203%20question%202_/sweeps/wbidaosr\" target=\"_blank\">https://wandb.ai/vaibhav-kuldeep/assignment%203%20question%202_/sweeps/wbidaosr</a>"
            ],
            "text/plain": [
              "<IPython.core.display.HTML object>"
            ]
          },
          "metadata": {},
          "output_type": "display_data"
        },
        {
          "output_type": "stream",
          "name": "stdout",
          "text": [
            "Epoch 1/5\n",
            "1830/1830 [==============================] - ETA: 0s - loss: 1.0412 - accuracy: 0.7110vallidation accuracy = 0.0\n",
            "1830/1830 [==============================] - 4840s 3s/step - loss: 1.0412 - accuracy: 0.7110 - val_loss: 0.7844 - val_accuracy: 0.7681 - validation accuracy: 0.0000e+00 - _timestamp: 1650571159.0000 - _runtime: 4851.0000\n",
            "Epoch 2/5\n",
            "1830/1830 [==============================] - ETA: 0s - loss: 0.6442 - accuracy: 0.8047vallidation accuracy = 0.01372514516980468\n",
            "1830/1830 [==============================] - 4966s 3s/step - loss: 0.6442 - accuracy: 0.8047 - val_loss: 0.4943 - val_accuracy: 0.8466 - validation accuracy: 0.0137 - _timestamp: 1650576125.0000 - _runtime: 9817.0000\n",
            "Epoch 3/5\n",
            "1830/1830 [==============================] - ETA: 0s - loss: 0.3385 - accuracy: 0.8962vallidation accuracy = 0.13162062291043464\n",
            "1830/1830 [==============================] - 4752s 3s/step - loss: 0.3385 - accuracy: 0.8962 - val_loss: 0.3079 - val_accuracy: 0.9059 - validation accuracy: 0.1316 - _timestamp: 1650580876.0000 - _runtime: 14568.0000\n",
            "Epoch 4/5\n",
            " 904/1830 [=============>................] - ETA: 31:55 - loss: 0.1933 - accuracy: 0.9412"
          ]
        }
      ],
      "source": [
        "wandb.agent(sweep_id,train)"
      ]
    }
  ],
  "metadata": {
    "colab": {
      "name": "solution_03_02.ipynb",
      "provenance": [],
      "collapsed_sections": [],
      "authorship_tag": "ABX9TyOsN2tcd14VBU+/swzR3NA6",
      "include_colab_link": true
    },
    "kernelspec": {
      "display_name": "Python 3",
      "name": "python3"
    },
    "language_info": {
      "name": "python"
    },
    "widgets": {
      "application/vnd.jupyter.widget-state+json": {
        "8910349611a447b2958a014a484c1d96": {
          "model_module": "@jupyter-widgets/controls",
          "model_name": "VBoxModel",
          "model_module_version": "1.5.0",
          "state": {
            "_dom_classes": [],
            "_model_module": "@jupyter-widgets/controls",
            "_model_module_version": "1.5.0",
            "_model_name": "VBoxModel",
            "_view_count": null,
            "_view_module": "@jupyter-widgets/controls",
            "_view_module_version": "1.5.0",
            "_view_name": "VBoxView",
            "box_style": "",
            "children": [
              "IPY_MODEL_7c623d6a52a44a7e8f3508a9d312b878",
              "IPY_MODEL_e019948fe8a44952886c710639cc8d58"
            ],
            "layout": "IPY_MODEL_17d02178537c4e5fbba3025ef9a07ad2"
          }
        },
        "7c623d6a52a44a7e8f3508a9d312b878": {
          "model_module": "@jupyter-widgets/controls",
          "model_name": "LabelModel",
          "model_module_version": "1.5.0",
          "state": {
            "_dom_classes": [],
            "_model_module": "@jupyter-widgets/controls",
            "_model_module_version": "1.5.0",
            "_model_name": "LabelModel",
            "_view_count": null,
            "_view_module": "@jupyter-widgets/controls",
            "_view_module_version": "1.5.0",
            "_view_name": "LabelView",
            "description": "",
            "description_tooltip": null,
            "layout": "IPY_MODEL_7e1262a5be2047838c906fad33ea7eb4",
            "placeholder": "​",
            "style": "IPY_MODEL_0c3ce49c5a01466289f4d4078e1e9f67",
            "value": "0.013 MB of 0.013 MB uploaded (0.000 MB deduped)\r"
          }
        },
        "e019948fe8a44952886c710639cc8d58": {
          "model_module": "@jupyter-widgets/controls",
          "model_name": "FloatProgressModel",
          "model_module_version": "1.5.0",
          "state": {
            "_dom_classes": [],
            "_model_module": "@jupyter-widgets/controls",
            "_model_module_version": "1.5.0",
            "_model_name": "FloatProgressModel",
            "_view_count": null,
            "_view_module": "@jupyter-widgets/controls",
            "_view_module_version": "1.5.0",
            "_view_name": "ProgressView",
            "bar_style": "",
            "description": "",
            "description_tooltip": null,
            "layout": "IPY_MODEL_1098e74aa4764aaca9ce88245b9c621d",
            "max": 1,
            "min": 0,
            "orientation": "horizontal",
            "style": "IPY_MODEL_a67da02956e74cab8cee55e3d5a10d1e",
            "value": 1
          }
        },
        "17d02178537c4e5fbba3025ef9a07ad2": {
          "model_module": "@jupyter-widgets/base",
          "model_name": "LayoutModel",
          "model_module_version": "1.2.0",
          "state": {
            "_model_module": "@jupyter-widgets/base",
            "_model_module_version": "1.2.0",
            "_model_name": "LayoutModel",
            "_view_count": null,
            "_view_module": "@jupyter-widgets/base",
            "_view_module_version": "1.2.0",
            "_view_name": "LayoutView",
            "align_content": null,
            "align_items": null,
            "align_self": null,
            "border": null,
            "bottom": null,
            "display": null,
            "flex": null,
            "flex_flow": null,
            "grid_area": null,
            "grid_auto_columns": null,
            "grid_auto_flow": null,
            "grid_auto_rows": null,
            "grid_column": null,
            "grid_gap": null,
            "grid_row": null,
            "grid_template_areas": null,
            "grid_template_columns": null,
            "grid_template_rows": null,
            "height": null,
            "justify_content": null,
            "justify_items": null,
            "left": null,
            "margin": null,
            "max_height": null,
            "max_width": null,
            "min_height": null,
            "min_width": null,
            "object_fit": null,
            "object_position": null,
            "order": null,
            "overflow": null,
            "overflow_x": null,
            "overflow_y": null,
            "padding": null,
            "right": null,
            "top": null,
            "visibility": null,
            "width": null
          }
        },
        "7e1262a5be2047838c906fad33ea7eb4": {
          "model_module": "@jupyter-widgets/base",
          "model_name": "LayoutModel",
          "model_module_version": "1.2.0",
          "state": {
            "_model_module": "@jupyter-widgets/base",
            "_model_module_version": "1.2.0",
            "_model_name": "LayoutModel",
            "_view_count": null,
            "_view_module": "@jupyter-widgets/base",
            "_view_module_version": "1.2.0",
            "_view_name": "LayoutView",
            "align_content": null,
            "align_items": null,
            "align_self": null,
            "border": null,
            "bottom": null,
            "display": null,
            "flex": null,
            "flex_flow": null,
            "grid_area": null,
            "grid_auto_columns": null,
            "grid_auto_flow": null,
            "grid_auto_rows": null,
            "grid_column": null,
            "grid_gap": null,
            "grid_row": null,
            "grid_template_areas": null,
            "grid_template_columns": null,
            "grid_template_rows": null,
            "height": null,
            "justify_content": null,
            "justify_items": null,
            "left": null,
            "margin": null,
            "max_height": null,
            "max_width": null,
            "min_height": null,
            "min_width": null,
            "object_fit": null,
            "object_position": null,
            "order": null,
            "overflow": null,
            "overflow_x": null,
            "overflow_y": null,
            "padding": null,
            "right": null,
            "top": null,
            "visibility": null,
            "width": null
          }
        },
        "0c3ce49c5a01466289f4d4078e1e9f67": {
          "model_module": "@jupyter-widgets/controls",
          "model_name": "DescriptionStyleModel",
          "model_module_version": "1.5.0",
          "state": {
            "_model_module": "@jupyter-widgets/controls",
            "_model_module_version": "1.5.0",
            "_model_name": "DescriptionStyleModel",
            "_view_count": null,
            "_view_module": "@jupyter-widgets/base",
            "_view_module_version": "1.2.0",
            "_view_name": "StyleView",
            "description_width": ""
          }
        },
        "1098e74aa4764aaca9ce88245b9c621d": {
          "model_module": "@jupyter-widgets/base",
          "model_name": "LayoutModel",
          "model_module_version": "1.2.0",
          "state": {
            "_model_module": "@jupyter-widgets/base",
            "_model_module_version": "1.2.0",
            "_model_name": "LayoutModel",
            "_view_count": null,
            "_view_module": "@jupyter-widgets/base",
            "_view_module_version": "1.2.0",
            "_view_name": "LayoutView",
            "align_content": null,
            "align_items": null,
            "align_self": null,
            "border": null,
            "bottom": null,
            "display": null,
            "flex": null,
            "flex_flow": null,
            "grid_area": null,
            "grid_auto_columns": null,
            "grid_auto_flow": null,
            "grid_auto_rows": null,
            "grid_column": null,
            "grid_gap": null,
            "grid_row": null,
            "grid_template_areas": null,
            "grid_template_columns": null,
            "grid_template_rows": null,
            "height": null,
            "justify_content": null,
            "justify_items": null,
            "left": null,
            "margin": null,
            "max_height": null,
            "max_width": null,
            "min_height": null,
            "min_width": null,
            "object_fit": null,
            "object_position": null,
            "order": null,
            "overflow": null,
            "overflow_x": null,
            "overflow_y": null,
            "padding": null,
            "right": null,
            "top": null,
            "visibility": null,
            "width": null
          }
        },
        "a67da02956e74cab8cee55e3d5a10d1e": {
          "model_module": "@jupyter-widgets/controls",
          "model_name": "ProgressStyleModel",
          "model_module_version": "1.5.0",
          "state": {
            "_model_module": "@jupyter-widgets/controls",
            "_model_module_version": "1.5.0",
            "_model_name": "ProgressStyleModel",
            "_view_count": null,
            "_view_module": "@jupyter-widgets/base",
            "_view_module_version": "1.2.0",
            "_view_name": "StyleView",
            "bar_color": null,
            "description_width": ""
          }
        },
        "f5ca1a9105db4f5ab3440e1cce50b004": {
          "model_module": "@jupyter-widgets/controls",
          "model_name": "VBoxModel",
          "model_module_version": "1.5.0",
          "state": {
            "_dom_classes": [],
            "_model_module": "@jupyter-widgets/controls",
            "_model_module_version": "1.5.0",
            "_model_name": "VBoxModel",
            "_view_count": null,
            "_view_module": "@jupyter-widgets/controls",
            "_view_module_version": "1.5.0",
            "_view_name": "VBoxView",
            "box_style": "",
            "children": [
              "IPY_MODEL_529a21d0aba14f8b9b339963aa17ec4b",
              "IPY_MODEL_43c33ce93c0049c89843deb3191aeb10"
            ],
            "layout": "IPY_MODEL_8882bad0cbb44771b703c672c936fb18"
          }
        },
        "529a21d0aba14f8b9b339963aa17ec4b": {
          "model_module": "@jupyter-widgets/controls",
          "model_name": "LabelModel",
          "model_module_version": "1.5.0",
          "state": {
            "_dom_classes": [],
            "_model_module": "@jupyter-widgets/controls",
            "_model_module_version": "1.5.0",
            "_model_name": "LabelModel",
            "_view_count": null,
            "_view_module": "@jupyter-widgets/controls",
            "_view_module_version": "1.5.0",
            "_view_name": "LabelView",
            "description": "",
            "description_tooltip": null,
            "layout": "IPY_MODEL_79377db53452438bb0dee82216645ed7",
            "placeholder": "​",
            "style": "IPY_MODEL_b43d71018e9a441f847324fe5296faf5",
            "value": "0.012 MB of 0.012 MB uploaded (0.000 MB deduped)\r"
          }
        },
        "43c33ce93c0049c89843deb3191aeb10": {
          "model_module": "@jupyter-widgets/controls",
          "model_name": "FloatProgressModel",
          "model_module_version": "1.5.0",
          "state": {
            "_dom_classes": [],
            "_model_module": "@jupyter-widgets/controls",
            "_model_module_version": "1.5.0",
            "_model_name": "FloatProgressModel",
            "_view_count": null,
            "_view_module": "@jupyter-widgets/controls",
            "_view_module_version": "1.5.0",
            "_view_name": "ProgressView",
            "bar_style": "",
            "description": "",
            "description_tooltip": null,
            "layout": "IPY_MODEL_155e002ce9c442cfafd2275f1f507cd5",
            "max": 1,
            "min": 0,
            "orientation": "horizontal",
            "style": "IPY_MODEL_2389826bc3714c1f8ede8a932dd57e2d",
            "value": 1
          }
        },
        "8882bad0cbb44771b703c672c936fb18": {
          "model_module": "@jupyter-widgets/base",
          "model_name": "LayoutModel",
          "model_module_version": "1.2.0",
          "state": {
            "_model_module": "@jupyter-widgets/base",
            "_model_module_version": "1.2.0",
            "_model_name": "LayoutModel",
            "_view_count": null,
            "_view_module": "@jupyter-widgets/base",
            "_view_module_version": "1.2.0",
            "_view_name": "LayoutView",
            "align_content": null,
            "align_items": null,
            "align_self": null,
            "border": null,
            "bottom": null,
            "display": null,
            "flex": null,
            "flex_flow": null,
            "grid_area": null,
            "grid_auto_columns": null,
            "grid_auto_flow": null,
            "grid_auto_rows": null,
            "grid_column": null,
            "grid_gap": null,
            "grid_row": null,
            "grid_template_areas": null,
            "grid_template_columns": null,
            "grid_template_rows": null,
            "height": null,
            "justify_content": null,
            "justify_items": null,
            "left": null,
            "margin": null,
            "max_height": null,
            "max_width": null,
            "min_height": null,
            "min_width": null,
            "object_fit": null,
            "object_position": null,
            "order": null,
            "overflow": null,
            "overflow_x": null,
            "overflow_y": null,
            "padding": null,
            "right": null,
            "top": null,
            "visibility": null,
            "width": null
          }
        },
        "79377db53452438bb0dee82216645ed7": {
          "model_module": "@jupyter-widgets/base",
          "model_name": "LayoutModel",
          "model_module_version": "1.2.0",
          "state": {
            "_model_module": "@jupyter-widgets/base",
            "_model_module_version": "1.2.0",
            "_model_name": "LayoutModel",
            "_view_count": null,
            "_view_module": "@jupyter-widgets/base",
            "_view_module_version": "1.2.0",
            "_view_name": "LayoutView",
            "align_content": null,
            "align_items": null,
            "align_self": null,
            "border": null,
            "bottom": null,
            "display": null,
            "flex": null,
            "flex_flow": null,
            "grid_area": null,
            "grid_auto_columns": null,
            "grid_auto_flow": null,
            "grid_auto_rows": null,
            "grid_column": null,
            "grid_gap": null,
            "grid_row": null,
            "grid_template_areas": null,
            "grid_template_columns": null,
            "grid_template_rows": null,
            "height": null,
            "justify_content": null,
            "justify_items": null,
            "left": null,
            "margin": null,
            "max_height": null,
            "max_width": null,
            "min_height": null,
            "min_width": null,
            "object_fit": null,
            "object_position": null,
            "order": null,
            "overflow": null,
            "overflow_x": null,
            "overflow_y": null,
            "padding": null,
            "right": null,
            "top": null,
            "visibility": null,
            "width": null
          }
        },
        "b43d71018e9a441f847324fe5296faf5": {
          "model_module": "@jupyter-widgets/controls",
          "model_name": "DescriptionStyleModel",
          "model_module_version": "1.5.0",
          "state": {
            "_model_module": "@jupyter-widgets/controls",
            "_model_module_version": "1.5.0",
            "_model_name": "DescriptionStyleModel",
            "_view_count": null,
            "_view_module": "@jupyter-widgets/base",
            "_view_module_version": "1.2.0",
            "_view_name": "StyleView",
            "description_width": ""
          }
        },
        "155e002ce9c442cfafd2275f1f507cd5": {
          "model_module": "@jupyter-widgets/base",
          "model_name": "LayoutModel",
          "model_module_version": "1.2.0",
          "state": {
            "_model_module": "@jupyter-widgets/base",
            "_model_module_version": "1.2.0",
            "_model_name": "LayoutModel",
            "_view_count": null,
            "_view_module": "@jupyter-widgets/base",
            "_view_module_version": "1.2.0",
            "_view_name": "LayoutView",
            "align_content": null,
            "align_items": null,
            "align_self": null,
            "border": null,
            "bottom": null,
            "display": null,
            "flex": null,
            "flex_flow": null,
            "grid_area": null,
            "grid_auto_columns": null,
            "grid_auto_flow": null,
            "grid_auto_rows": null,
            "grid_column": null,
            "grid_gap": null,
            "grid_row": null,
            "grid_template_areas": null,
            "grid_template_columns": null,
            "grid_template_rows": null,
            "height": null,
            "justify_content": null,
            "justify_items": null,
            "left": null,
            "margin": null,
            "max_height": null,
            "max_width": null,
            "min_height": null,
            "min_width": null,
            "object_fit": null,
            "object_position": null,
            "order": null,
            "overflow": null,
            "overflow_x": null,
            "overflow_y": null,
            "padding": null,
            "right": null,
            "top": null,
            "visibility": null,
            "width": null
          }
        },
        "2389826bc3714c1f8ede8a932dd57e2d": {
          "model_module": "@jupyter-widgets/controls",
          "model_name": "ProgressStyleModel",
          "model_module_version": "1.5.0",
          "state": {
            "_model_module": "@jupyter-widgets/controls",
            "_model_module_version": "1.5.0",
            "_model_name": "ProgressStyleModel",
            "_view_count": null,
            "_view_module": "@jupyter-widgets/base",
            "_view_module_version": "1.2.0",
            "_view_name": "StyleView",
            "bar_color": null,
            "description_width": ""
          }
        },
        "7946adf703d24305ad497e49485d4560": {
          "model_module": "@jupyter-widgets/controls",
          "model_name": "VBoxModel",
          "model_module_version": "1.5.0",
          "state": {
            "_dom_classes": [],
            "_model_module": "@jupyter-widgets/controls",
            "_model_module_version": "1.5.0",
            "_model_name": "VBoxModel",
            "_view_count": null,
            "_view_module": "@jupyter-widgets/controls",
            "_view_module_version": "1.5.0",
            "_view_name": "VBoxView",
            "box_style": "",
            "children": [
              "IPY_MODEL_83ba471bac8a4e59ab9a43dcbfda6acb",
              "IPY_MODEL_bc0077b2acd14dfcb003c0e3f996d940"
            ],
            "layout": "IPY_MODEL_26da298404884801b61cae4150bad294"
          }
        },
        "83ba471bac8a4e59ab9a43dcbfda6acb": {
          "model_module": "@jupyter-widgets/controls",
          "model_name": "LabelModel",
          "model_module_version": "1.5.0",
          "state": {
            "_dom_classes": [],
            "_model_module": "@jupyter-widgets/controls",
            "_model_module_version": "1.5.0",
            "_model_name": "LabelModel",
            "_view_count": null,
            "_view_module": "@jupyter-widgets/controls",
            "_view_module_version": "1.5.0",
            "_view_name": "LabelView",
            "description": "",
            "description_tooltip": null,
            "layout": "IPY_MODEL_c7354d40d4744ffb97e2afe25c946625",
            "placeholder": "​",
            "style": "IPY_MODEL_8a5ae531c4c042b3bf25b132a5a83920",
            "value": "0.012 MB of 0.012 MB uploaded (0.000 MB deduped)\r"
          }
        },
        "bc0077b2acd14dfcb003c0e3f996d940": {
          "model_module": "@jupyter-widgets/controls",
          "model_name": "FloatProgressModel",
          "model_module_version": "1.5.0",
          "state": {
            "_dom_classes": [],
            "_model_module": "@jupyter-widgets/controls",
            "_model_module_version": "1.5.0",
            "_model_name": "FloatProgressModel",
            "_view_count": null,
            "_view_module": "@jupyter-widgets/controls",
            "_view_module_version": "1.5.0",
            "_view_name": "ProgressView",
            "bar_style": "",
            "description": "",
            "description_tooltip": null,
            "layout": "IPY_MODEL_966b16990cb740bda8e652609cb03a53",
            "max": 1,
            "min": 0,
            "orientation": "horizontal",
            "style": "IPY_MODEL_1cffc4afbfd24ccd811d28e7a38eab35",
            "value": 1
          }
        },
        "26da298404884801b61cae4150bad294": {
          "model_module": "@jupyter-widgets/base",
          "model_name": "LayoutModel",
          "model_module_version": "1.2.0",
          "state": {
            "_model_module": "@jupyter-widgets/base",
            "_model_module_version": "1.2.0",
            "_model_name": "LayoutModel",
            "_view_count": null,
            "_view_module": "@jupyter-widgets/base",
            "_view_module_version": "1.2.0",
            "_view_name": "LayoutView",
            "align_content": null,
            "align_items": null,
            "align_self": null,
            "border": null,
            "bottom": null,
            "display": null,
            "flex": null,
            "flex_flow": null,
            "grid_area": null,
            "grid_auto_columns": null,
            "grid_auto_flow": null,
            "grid_auto_rows": null,
            "grid_column": null,
            "grid_gap": null,
            "grid_row": null,
            "grid_template_areas": null,
            "grid_template_columns": null,
            "grid_template_rows": null,
            "height": null,
            "justify_content": null,
            "justify_items": null,
            "left": null,
            "margin": null,
            "max_height": null,
            "max_width": null,
            "min_height": null,
            "min_width": null,
            "object_fit": null,
            "object_position": null,
            "order": null,
            "overflow": null,
            "overflow_x": null,
            "overflow_y": null,
            "padding": null,
            "right": null,
            "top": null,
            "visibility": null,
            "width": null
          }
        },
        "c7354d40d4744ffb97e2afe25c946625": {
          "model_module": "@jupyter-widgets/base",
          "model_name": "LayoutModel",
          "model_module_version": "1.2.0",
          "state": {
            "_model_module": "@jupyter-widgets/base",
            "_model_module_version": "1.2.0",
            "_model_name": "LayoutModel",
            "_view_count": null,
            "_view_module": "@jupyter-widgets/base",
            "_view_module_version": "1.2.0",
            "_view_name": "LayoutView",
            "align_content": null,
            "align_items": null,
            "align_self": null,
            "border": null,
            "bottom": null,
            "display": null,
            "flex": null,
            "flex_flow": null,
            "grid_area": null,
            "grid_auto_columns": null,
            "grid_auto_flow": null,
            "grid_auto_rows": null,
            "grid_column": null,
            "grid_gap": null,
            "grid_row": null,
            "grid_template_areas": null,
            "grid_template_columns": null,
            "grid_template_rows": null,
            "height": null,
            "justify_content": null,
            "justify_items": null,
            "left": null,
            "margin": null,
            "max_height": null,
            "max_width": null,
            "min_height": null,
            "min_width": null,
            "object_fit": null,
            "object_position": null,
            "order": null,
            "overflow": null,
            "overflow_x": null,
            "overflow_y": null,
            "padding": null,
            "right": null,
            "top": null,
            "visibility": null,
            "width": null
          }
        },
        "8a5ae531c4c042b3bf25b132a5a83920": {
          "model_module": "@jupyter-widgets/controls",
          "model_name": "DescriptionStyleModel",
          "model_module_version": "1.5.0",
          "state": {
            "_model_module": "@jupyter-widgets/controls",
            "_model_module_version": "1.5.0",
            "_model_name": "DescriptionStyleModel",
            "_view_count": null,
            "_view_module": "@jupyter-widgets/base",
            "_view_module_version": "1.2.0",
            "_view_name": "StyleView",
            "description_width": ""
          }
        },
        "966b16990cb740bda8e652609cb03a53": {
          "model_module": "@jupyter-widgets/base",
          "model_name": "LayoutModel",
          "model_module_version": "1.2.0",
          "state": {
            "_model_module": "@jupyter-widgets/base",
            "_model_module_version": "1.2.0",
            "_model_name": "LayoutModel",
            "_view_count": null,
            "_view_module": "@jupyter-widgets/base",
            "_view_module_version": "1.2.0",
            "_view_name": "LayoutView",
            "align_content": null,
            "align_items": null,
            "align_self": null,
            "border": null,
            "bottom": null,
            "display": null,
            "flex": null,
            "flex_flow": null,
            "grid_area": null,
            "grid_auto_columns": null,
            "grid_auto_flow": null,
            "grid_auto_rows": null,
            "grid_column": null,
            "grid_gap": null,
            "grid_row": null,
            "grid_template_areas": null,
            "grid_template_columns": null,
            "grid_template_rows": null,
            "height": null,
            "justify_content": null,
            "justify_items": null,
            "left": null,
            "margin": null,
            "max_height": null,
            "max_width": null,
            "min_height": null,
            "min_width": null,
            "object_fit": null,
            "object_position": null,
            "order": null,
            "overflow": null,
            "overflow_x": null,
            "overflow_y": null,
            "padding": null,
            "right": null,
            "top": null,
            "visibility": null,
            "width": null
          }
        },
        "1cffc4afbfd24ccd811d28e7a38eab35": {
          "model_module": "@jupyter-widgets/controls",
          "model_name": "ProgressStyleModel",
          "model_module_version": "1.5.0",
          "state": {
            "_model_module": "@jupyter-widgets/controls",
            "_model_module_version": "1.5.0",
            "_model_name": "ProgressStyleModel",
            "_view_count": null,
            "_view_module": "@jupyter-widgets/base",
            "_view_module_version": "1.2.0",
            "_view_name": "StyleView",
            "bar_color": null,
            "description_width": ""
          }
        },
        "85280c8040fd4a5ba6dfea5932220463": {
          "model_module": "@jupyter-widgets/controls",
          "model_name": "VBoxModel",
          "model_module_version": "1.5.0",
          "state": {
            "_dom_classes": [],
            "_model_module": "@jupyter-widgets/controls",
            "_model_module_version": "1.5.0",
            "_model_name": "VBoxModel",
            "_view_count": null,
            "_view_module": "@jupyter-widgets/controls",
            "_view_module_version": "1.5.0",
            "_view_name": "VBoxView",
            "box_style": "",
            "children": [
              "IPY_MODEL_f87459d6cd754592b763fc6a39f0ea0a",
              "IPY_MODEL_b8c287d9d6ba4f1e9abf896b4576b8a3"
            ],
            "layout": "IPY_MODEL_ca8f7221b2ba4bb5adf4b5bf9d3fe7b2"
          }
        },
        "f87459d6cd754592b763fc6a39f0ea0a": {
          "model_module": "@jupyter-widgets/controls",
          "model_name": "LabelModel",
          "model_module_version": "1.5.0",
          "state": {
            "_dom_classes": [],
            "_model_module": "@jupyter-widgets/controls",
            "_model_module_version": "1.5.0",
            "_model_name": "LabelModel",
            "_view_count": null,
            "_view_module": "@jupyter-widgets/controls",
            "_view_module_version": "1.5.0",
            "_view_name": "LabelView",
            "description": "",
            "description_tooltip": null,
            "layout": "IPY_MODEL_7cc15d0093124cc3b8e29359d07bfc9d",
            "placeholder": "​",
            "style": "IPY_MODEL_c84431c9862d47998847a2fc5ecbe233",
            "value": "0.013 MB of 0.013 MB uploaded (0.000 MB deduped)\r"
          }
        },
        "b8c287d9d6ba4f1e9abf896b4576b8a3": {
          "model_module": "@jupyter-widgets/controls",
          "model_name": "FloatProgressModel",
          "model_module_version": "1.5.0",
          "state": {
            "_dom_classes": [],
            "_model_module": "@jupyter-widgets/controls",
            "_model_module_version": "1.5.0",
            "_model_name": "FloatProgressModel",
            "_view_count": null,
            "_view_module": "@jupyter-widgets/controls",
            "_view_module_version": "1.5.0",
            "_view_name": "ProgressView",
            "bar_style": "",
            "description": "",
            "description_tooltip": null,
            "layout": "IPY_MODEL_c37171f0f538448795ae43cf528cc729",
            "max": 1,
            "min": 0,
            "orientation": "horizontal",
            "style": "IPY_MODEL_bf88ed2dfbdc45a0831039ae57d65cf0",
            "value": 1
          }
        },
        "ca8f7221b2ba4bb5adf4b5bf9d3fe7b2": {
          "model_module": "@jupyter-widgets/base",
          "model_name": "LayoutModel",
          "model_module_version": "1.2.0",
          "state": {
            "_model_module": "@jupyter-widgets/base",
            "_model_module_version": "1.2.0",
            "_model_name": "LayoutModel",
            "_view_count": null,
            "_view_module": "@jupyter-widgets/base",
            "_view_module_version": "1.2.0",
            "_view_name": "LayoutView",
            "align_content": null,
            "align_items": null,
            "align_self": null,
            "border": null,
            "bottom": null,
            "display": null,
            "flex": null,
            "flex_flow": null,
            "grid_area": null,
            "grid_auto_columns": null,
            "grid_auto_flow": null,
            "grid_auto_rows": null,
            "grid_column": null,
            "grid_gap": null,
            "grid_row": null,
            "grid_template_areas": null,
            "grid_template_columns": null,
            "grid_template_rows": null,
            "height": null,
            "justify_content": null,
            "justify_items": null,
            "left": null,
            "margin": null,
            "max_height": null,
            "max_width": null,
            "min_height": null,
            "min_width": null,
            "object_fit": null,
            "object_position": null,
            "order": null,
            "overflow": null,
            "overflow_x": null,
            "overflow_y": null,
            "padding": null,
            "right": null,
            "top": null,
            "visibility": null,
            "width": null
          }
        },
        "7cc15d0093124cc3b8e29359d07bfc9d": {
          "model_module": "@jupyter-widgets/base",
          "model_name": "LayoutModel",
          "model_module_version": "1.2.0",
          "state": {
            "_model_module": "@jupyter-widgets/base",
            "_model_module_version": "1.2.0",
            "_model_name": "LayoutModel",
            "_view_count": null,
            "_view_module": "@jupyter-widgets/base",
            "_view_module_version": "1.2.0",
            "_view_name": "LayoutView",
            "align_content": null,
            "align_items": null,
            "align_self": null,
            "border": null,
            "bottom": null,
            "display": null,
            "flex": null,
            "flex_flow": null,
            "grid_area": null,
            "grid_auto_columns": null,
            "grid_auto_flow": null,
            "grid_auto_rows": null,
            "grid_column": null,
            "grid_gap": null,
            "grid_row": null,
            "grid_template_areas": null,
            "grid_template_columns": null,
            "grid_template_rows": null,
            "height": null,
            "justify_content": null,
            "justify_items": null,
            "left": null,
            "margin": null,
            "max_height": null,
            "max_width": null,
            "min_height": null,
            "min_width": null,
            "object_fit": null,
            "object_position": null,
            "order": null,
            "overflow": null,
            "overflow_x": null,
            "overflow_y": null,
            "padding": null,
            "right": null,
            "top": null,
            "visibility": null,
            "width": null
          }
        },
        "c84431c9862d47998847a2fc5ecbe233": {
          "model_module": "@jupyter-widgets/controls",
          "model_name": "DescriptionStyleModel",
          "model_module_version": "1.5.0",
          "state": {
            "_model_module": "@jupyter-widgets/controls",
            "_model_module_version": "1.5.0",
            "_model_name": "DescriptionStyleModel",
            "_view_count": null,
            "_view_module": "@jupyter-widgets/base",
            "_view_module_version": "1.2.0",
            "_view_name": "StyleView",
            "description_width": ""
          }
        },
        "c37171f0f538448795ae43cf528cc729": {
          "model_module": "@jupyter-widgets/base",
          "model_name": "LayoutModel",
          "model_module_version": "1.2.0",
          "state": {
            "_model_module": "@jupyter-widgets/base",
            "_model_module_version": "1.2.0",
            "_model_name": "LayoutModel",
            "_view_count": null,
            "_view_module": "@jupyter-widgets/base",
            "_view_module_version": "1.2.0",
            "_view_name": "LayoutView",
            "align_content": null,
            "align_items": null,
            "align_self": null,
            "border": null,
            "bottom": null,
            "display": null,
            "flex": null,
            "flex_flow": null,
            "grid_area": null,
            "grid_auto_columns": null,
            "grid_auto_flow": null,
            "grid_auto_rows": null,
            "grid_column": null,
            "grid_gap": null,
            "grid_row": null,
            "grid_template_areas": null,
            "grid_template_columns": null,
            "grid_template_rows": null,
            "height": null,
            "justify_content": null,
            "justify_items": null,
            "left": null,
            "margin": null,
            "max_height": null,
            "max_width": null,
            "min_height": null,
            "min_width": null,
            "object_fit": null,
            "object_position": null,
            "order": null,
            "overflow": null,
            "overflow_x": null,
            "overflow_y": null,
            "padding": null,
            "right": null,
            "top": null,
            "visibility": null,
            "width": null
          }
        },
        "bf88ed2dfbdc45a0831039ae57d65cf0": {
          "model_module": "@jupyter-widgets/controls",
          "model_name": "ProgressStyleModel",
          "model_module_version": "1.5.0",
          "state": {
            "_model_module": "@jupyter-widgets/controls",
            "_model_module_version": "1.5.0",
            "_model_name": "ProgressStyleModel",
            "_view_count": null,
            "_view_module": "@jupyter-widgets/base",
            "_view_module_version": "1.2.0",
            "_view_name": "StyleView",
            "bar_color": null,
            "description_width": ""
          }
        },
        "ec1127e801b245f4bd4b24fc55dd13f2": {
          "model_module": "@jupyter-widgets/controls",
          "model_name": "VBoxModel",
          "model_module_version": "1.5.0",
          "state": {
            "_dom_classes": [],
            "_model_module": "@jupyter-widgets/controls",
            "_model_module_version": "1.5.0",
            "_model_name": "VBoxModel",
            "_view_count": null,
            "_view_module": "@jupyter-widgets/controls",
            "_view_module_version": "1.5.0",
            "_view_name": "VBoxView",
            "box_style": "",
            "children": [
              "IPY_MODEL_683e897fbf184257a153e02c4e019899",
              "IPY_MODEL_dde554b37926468ab2166b2c7239c4eb"
            ],
            "layout": "IPY_MODEL_cdf83bca93fb4f29b48190703251dfc0"
          }
        },
        "683e897fbf184257a153e02c4e019899": {
          "model_module": "@jupyter-widgets/controls",
          "model_name": "LabelModel",
          "model_module_version": "1.5.0",
          "state": {
            "_dom_classes": [],
            "_model_module": "@jupyter-widgets/controls",
            "_model_module_version": "1.5.0",
            "_model_name": "LabelModel",
            "_view_count": null,
            "_view_module": "@jupyter-widgets/controls",
            "_view_module_version": "1.5.0",
            "_view_name": "LabelView",
            "description": "",
            "description_tooltip": null,
            "layout": "IPY_MODEL_d35d0df6c2824bb08403784133e953a7",
            "placeholder": "​",
            "style": "IPY_MODEL_af1e4b87f2694ab79beec3c52c9751b5",
            "value": "0.011 MB of 0.011 MB uploaded (0.000 MB deduped)\r"
          }
        },
        "dde554b37926468ab2166b2c7239c4eb": {
          "model_module": "@jupyter-widgets/controls",
          "model_name": "FloatProgressModel",
          "model_module_version": "1.5.0",
          "state": {
            "_dom_classes": [],
            "_model_module": "@jupyter-widgets/controls",
            "_model_module_version": "1.5.0",
            "_model_name": "FloatProgressModel",
            "_view_count": null,
            "_view_module": "@jupyter-widgets/controls",
            "_view_module_version": "1.5.0",
            "_view_name": "ProgressView",
            "bar_style": "",
            "description": "",
            "description_tooltip": null,
            "layout": "IPY_MODEL_baa808562fd74c239556f00782a4247d",
            "max": 1,
            "min": 0,
            "orientation": "horizontal",
            "style": "IPY_MODEL_d5a3df6c61174b338646440637bd7cea",
            "value": 1
          }
        },
        "cdf83bca93fb4f29b48190703251dfc0": {
          "model_module": "@jupyter-widgets/base",
          "model_name": "LayoutModel",
          "model_module_version": "1.2.0",
          "state": {
            "_model_module": "@jupyter-widgets/base",
            "_model_module_version": "1.2.0",
            "_model_name": "LayoutModel",
            "_view_count": null,
            "_view_module": "@jupyter-widgets/base",
            "_view_module_version": "1.2.0",
            "_view_name": "LayoutView",
            "align_content": null,
            "align_items": null,
            "align_self": null,
            "border": null,
            "bottom": null,
            "display": null,
            "flex": null,
            "flex_flow": null,
            "grid_area": null,
            "grid_auto_columns": null,
            "grid_auto_flow": null,
            "grid_auto_rows": null,
            "grid_column": null,
            "grid_gap": null,
            "grid_row": null,
            "grid_template_areas": null,
            "grid_template_columns": null,
            "grid_template_rows": null,
            "height": null,
            "justify_content": null,
            "justify_items": null,
            "left": null,
            "margin": null,
            "max_height": null,
            "max_width": null,
            "min_height": null,
            "min_width": null,
            "object_fit": null,
            "object_position": null,
            "order": null,
            "overflow": null,
            "overflow_x": null,
            "overflow_y": null,
            "padding": null,
            "right": null,
            "top": null,
            "visibility": null,
            "width": null
          }
        },
        "d35d0df6c2824bb08403784133e953a7": {
          "model_module": "@jupyter-widgets/base",
          "model_name": "LayoutModel",
          "model_module_version": "1.2.0",
          "state": {
            "_model_module": "@jupyter-widgets/base",
            "_model_module_version": "1.2.0",
            "_model_name": "LayoutModel",
            "_view_count": null,
            "_view_module": "@jupyter-widgets/base",
            "_view_module_version": "1.2.0",
            "_view_name": "LayoutView",
            "align_content": null,
            "align_items": null,
            "align_self": null,
            "border": null,
            "bottom": null,
            "display": null,
            "flex": null,
            "flex_flow": null,
            "grid_area": null,
            "grid_auto_columns": null,
            "grid_auto_flow": null,
            "grid_auto_rows": null,
            "grid_column": null,
            "grid_gap": null,
            "grid_row": null,
            "grid_template_areas": null,
            "grid_template_columns": null,
            "grid_template_rows": null,
            "height": null,
            "justify_content": null,
            "justify_items": null,
            "left": null,
            "margin": null,
            "max_height": null,
            "max_width": null,
            "min_height": null,
            "min_width": null,
            "object_fit": null,
            "object_position": null,
            "order": null,
            "overflow": null,
            "overflow_x": null,
            "overflow_y": null,
            "padding": null,
            "right": null,
            "top": null,
            "visibility": null,
            "width": null
          }
        },
        "af1e4b87f2694ab79beec3c52c9751b5": {
          "model_module": "@jupyter-widgets/controls",
          "model_name": "DescriptionStyleModel",
          "model_module_version": "1.5.0",
          "state": {
            "_model_module": "@jupyter-widgets/controls",
            "_model_module_version": "1.5.0",
            "_model_name": "DescriptionStyleModel",
            "_view_count": null,
            "_view_module": "@jupyter-widgets/base",
            "_view_module_version": "1.2.0",
            "_view_name": "StyleView",
            "description_width": ""
          }
        },
        "baa808562fd74c239556f00782a4247d": {
          "model_module": "@jupyter-widgets/base",
          "model_name": "LayoutModel",
          "model_module_version": "1.2.0",
          "state": {
            "_model_module": "@jupyter-widgets/base",
            "_model_module_version": "1.2.0",
            "_model_name": "LayoutModel",
            "_view_count": null,
            "_view_module": "@jupyter-widgets/base",
            "_view_module_version": "1.2.0",
            "_view_name": "LayoutView",
            "align_content": null,
            "align_items": null,
            "align_self": null,
            "border": null,
            "bottom": null,
            "display": null,
            "flex": null,
            "flex_flow": null,
            "grid_area": null,
            "grid_auto_columns": null,
            "grid_auto_flow": null,
            "grid_auto_rows": null,
            "grid_column": null,
            "grid_gap": null,
            "grid_row": null,
            "grid_template_areas": null,
            "grid_template_columns": null,
            "grid_template_rows": null,
            "height": null,
            "justify_content": null,
            "justify_items": null,
            "left": null,
            "margin": null,
            "max_height": null,
            "max_width": null,
            "min_height": null,
            "min_width": null,
            "object_fit": null,
            "object_position": null,
            "order": null,
            "overflow": null,
            "overflow_x": null,
            "overflow_y": null,
            "padding": null,
            "right": null,
            "top": null,
            "visibility": null,
            "width": null
          }
        },
        "d5a3df6c61174b338646440637bd7cea": {
          "model_module": "@jupyter-widgets/controls",
          "model_name": "ProgressStyleModel",
          "model_module_version": "1.5.0",
          "state": {
            "_model_module": "@jupyter-widgets/controls",
            "_model_module_version": "1.5.0",
            "_model_name": "ProgressStyleModel",
            "_view_count": null,
            "_view_module": "@jupyter-widgets/base",
            "_view_module_version": "1.2.0",
            "_view_name": "StyleView",
            "bar_color": null,
            "description_width": ""
          }
        },
        "4af2e5960736484493cb248897ebe02c": {
          "model_module": "@jupyter-widgets/controls",
          "model_name": "VBoxModel",
          "model_module_version": "1.5.0",
          "state": {
            "_dom_classes": [],
            "_model_module": "@jupyter-widgets/controls",
            "_model_module_version": "1.5.0",
            "_model_name": "VBoxModel",
            "_view_count": null,
            "_view_module": "@jupyter-widgets/controls",
            "_view_module_version": "1.5.0",
            "_view_name": "VBoxView",
            "box_style": "",
            "children": [
              "IPY_MODEL_d4134bf90eb94ec19a7c7881ff457afc",
              "IPY_MODEL_8bec1342ce5243a0ac75bcb4f5f737e0"
            ],
            "layout": "IPY_MODEL_a59234422aa448a3aeaf047abeac2007"
          }
        },
        "d4134bf90eb94ec19a7c7881ff457afc": {
          "model_module": "@jupyter-widgets/controls",
          "model_name": "LabelModel",
          "model_module_version": "1.5.0",
          "state": {
            "_dom_classes": [],
            "_model_module": "@jupyter-widgets/controls",
            "_model_module_version": "1.5.0",
            "_model_name": "LabelModel",
            "_view_count": null,
            "_view_module": "@jupyter-widgets/controls",
            "_view_module_version": "1.5.0",
            "_view_name": "LabelView",
            "description": "",
            "description_tooltip": null,
            "layout": "IPY_MODEL_5e7e368acc914455b05e6e90b13bc08f",
            "placeholder": "​",
            "style": "IPY_MODEL_7b206131bf6a4651a8a9bcae434f250f",
            "value": "0.011 MB of 0.011 MB uploaded (0.000 MB deduped)\r"
          }
        },
        "8bec1342ce5243a0ac75bcb4f5f737e0": {
          "model_module": "@jupyter-widgets/controls",
          "model_name": "FloatProgressModel",
          "model_module_version": "1.5.0",
          "state": {
            "_dom_classes": [],
            "_model_module": "@jupyter-widgets/controls",
            "_model_module_version": "1.5.0",
            "_model_name": "FloatProgressModel",
            "_view_count": null,
            "_view_module": "@jupyter-widgets/controls",
            "_view_module_version": "1.5.0",
            "_view_name": "ProgressView",
            "bar_style": "",
            "description": "",
            "description_tooltip": null,
            "layout": "IPY_MODEL_1c26839c82e44f0d84d699490aaab4df",
            "max": 1,
            "min": 0,
            "orientation": "horizontal",
            "style": "IPY_MODEL_da415b07e079448ab2945dc9d7fb3e82",
            "value": 1
          }
        },
        "a59234422aa448a3aeaf047abeac2007": {
          "model_module": "@jupyter-widgets/base",
          "model_name": "LayoutModel",
          "model_module_version": "1.2.0",
          "state": {
            "_model_module": "@jupyter-widgets/base",
            "_model_module_version": "1.2.0",
            "_model_name": "LayoutModel",
            "_view_count": null,
            "_view_module": "@jupyter-widgets/base",
            "_view_module_version": "1.2.0",
            "_view_name": "LayoutView",
            "align_content": null,
            "align_items": null,
            "align_self": null,
            "border": null,
            "bottom": null,
            "display": null,
            "flex": null,
            "flex_flow": null,
            "grid_area": null,
            "grid_auto_columns": null,
            "grid_auto_flow": null,
            "grid_auto_rows": null,
            "grid_column": null,
            "grid_gap": null,
            "grid_row": null,
            "grid_template_areas": null,
            "grid_template_columns": null,
            "grid_template_rows": null,
            "height": null,
            "justify_content": null,
            "justify_items": null,
            "left": null,
            "margin": null,
            "max_height": null,
            "max_width": null,
            "min_height": null,
            "min_width": null,
            "object_fit": null,
            "object_position": null,
            "order": null,
            "overflow": null,
            "overflow_x": null,
            "overflow_y": null,
            "padding": null,
            "right": null,
            "top": null,
            "visibility": null,
            "width": null
          }
        },
        "5e7e368acc914455b05e6e90b13bc08f": {
          "model_module": "@jupyter-widgets/base",
          "model_name": "LayoutModel",
          "model_module_version": "1.2.0",
          "state": {
            "_model_module": "@jupyter-widgets/base",
            "_model_module_version": "1.2.0",
            "_model_name": "LayoutModel",
            "_view_count": null,
            "_view_module": "@jupyter-widgets/base",
            "_view_module_version": "1.2.0",
            "_view_name": "LayoutView",
            "align_content": null,
            "align_items": null,
            "align_self": null,
            "border": null,
            "bottom": null,
            "display": null,
            "flex": null,
            "flex_flow": null,
            "grid_area": null,
            "grid_auto_columns": null,
            "grid_auto_flow": null,
            "grid_auto_rows": null,
            "grid_column": null,
            "grid_gap": null,
            "grid_row": null,
            "grid_template_areas": null,
            "grid_template_columns": null,
            "grid_template_rows": null,
            "height": null,
            "justify_content": null,
            "justify_items": null,
            "left": null,
            "margin": null,
            "max_height": null,
            "max_width": null,
            "min_height": null,
            "min_width": null,
            "object_fit": null,
            "object_position": null,
            "order": null,
            "overflow": null,
            "overflow_x": null,
            "overflow_y": null,
            "padding": null,
            "right": null,
            "top": null,
            "visibility": null,
            "width": null
          }
        },
        "7b206131bf6a4651a8a9bcae434f250f": {
          "model_module": "@jupyter-widgets/controls",
          "model_name": "DescriptionStyleModel",
          "model_module_version": "1.5.0",
          "state": {
            "_model_module": "@jupyter-widgets/controls",
            "_model_module_version": "1.5.0",
            "_model_name": "DescriptionStyleModel",
            "_view_count": null,
            "_view_module": "@jupyter-widgets/base",
            "_view_module_version": "1.2.0",
            "_view_name": "StyleView",
            "description_width": ""
          }
        },
        "1c26839c82e44f0d84d699490aaab4df": {
          "model_module": "@jupyter-widgets/base",
          "model_name": "LayoutModel",
          "model_module_version": "1.2.0",
          "state": {
            "_model_module": "@jupyter-widgets/base",
            "_model_module_version": "1.2.0",
            "_model_name": "LayoutModel",
            "_view_count": null,
            "_view_module": "@jupyter-widgets/base",
            "_view_module_version": "1.2.0",
            "_view_name": "LayoutView",
            "align_content": null,
            "align_items": null,
            "align_self": null,
            "border": null,
            "bottom": null,
            "display": null,
            "flex": null,
            "flex_flow": null,
            "grid_area": null,
            "grid_auto_columns": null,
            "grid_auto_flow": null,
            "grid_auto_rows": null,
            "grid_column": null,
            "grid_gap": null,
            "grid_row": null,
            "grid_template_areas": null,
            "grid_template_columns": null,
            "grid_template_rows": null,
            "height": null,
            "justify_content": null,
            "justify_items": null,
            "left": null,
            "margin": null,
            "max_height": null,
            "max_width": null,
            "min_height": null,
            "min_width": null,
            "object_fit": null,
            "object_position": null,
            "order": null,
            "overflow": null,
            "overflow_x": null,
            "overflow_y": null,
            "padding": null,
            "right": null,
            "top": null,
            "visibility": null,
            "width": null
          }
        },
        "da415b07e079448ab2945dc9d7fb3e82": {
          "model_module": "@jupyter-widgets/controls",
          "model_name": "ProgressStyleModel",
          "model_module_version": "1.5.0",
          "state": {
            "_model_module": "@jupyter-widgets/controls",
            "_model_module_version": "1.5.0",
            "_model_name": "ProgressStyleModel",
            "_view_count": null,
            "_view_module": "@jupyter-widgets/base",
            "_view_module_version": "1.2.0",
            "_view_name": "StyleView",
            "bar_color": null,
            "description_width": ""
          }
        },
        "1d24c19b1dca4ec3a547ee33fea6d58e": {
          "model_module": "@jupyter-widgets/controls",
          "model_name": "VBoxModel",
          "model_module_version": "1.5.0",
          "state": {
            "_dom_classes": [],
            "_model_module": "@jupyter-widgets/controls",
            "_model_module_version": "1.5.0",
            "_model_name": "VBoxModel",
            "_view_count": null,
            "_view_module": "@jupyter-widgets/controls",
            "_view_module_version": "1.5.0",
            "_view_name": "VBoxView",
            "box_style": "",
            "children": [
              "IPY_MODEL_c376c08f902a4d40bd6569b381026a67",
              "IPY_MODEL_e5df07e28fa5475bb4bf8dd91c5f0f66"
            ],
            "layout": "IPY_MODEL_71ccf9beb0154d37a7b56e0c6c2c2541"
          }
        },
        "c376c08f902a4d40bd6569b381026a67": {
          "model_module": "@jupyter-widgets/controls",
          "model_name": "LabelModel",
          "model_module_version": "1.5.0",
          "state": {
            "_dom_classes": [],
            "_model_module": "@jupyter-widgets/controls",
            "_model_module_version": "1.5.0",
            "_model_name": "LabelModel",
            "_view_count": null,
            "_view_module": "@jupyter-widgets/controls",
            "_view_module_version": "1.5.0",
            "_view_name": "LabelView",
            "description": "",
            "description_tooltip": null,
            "layout": "IPY_MODEL_67dcda7e9d2341619811ace93d83595a",
            "placeholder": "​",
            "style": "IPY_MODEL_a9eee12200d94373bf783105944e2f20",
            "value": "0.011 MB of 0.011 MB uploaded (0.000 MB deduped)\r"
          }
        },
        "e5df07e28fa5475bb4bf8dd91c5f0f66": {
          "model_module": "@jupyter-widgets/controls",
          "model_name": "FloatProgressModel",
          "model_module_version": "1.5.0",
          "state": {
            "_dom_classes": [],
            "_model_module": "@jupyter-widgets/controls",
            "_model_module_version": "1.5.0",
            "_model_name": "FloatProgressModel",
            "_view_count": null,
            "_view_module": "@jupyter-widgets/controls",
            "_view_module_version": "1.5.0",
            "_view_name": "ProgressView",
            "bar_style": "",
            "description": "",
            "description_tooltip": null,
            "layout": "IPY_MODEL_8625b0ed44ae432db620cabd8a78f3ca",
            "max": 1,
            "min": 0,
            "orientation": "horizontal",
            "style": "IPY_MODEL_a76cdb788d8949b3ab16f72aee9e5e22",
            "value": 1
          }
        },
        "71ccf9beb0154d37a7b56e0c6c2c2541": {
          "model_module": "@jupyter-widgets/base",
          "model_name": "LayoutModel",
          "model_module_version": "1.2.0",
          "state": {
            "_model_module": "@jupyter-widgets/base",
            "_model_module_version": "1.2.0",
            "_model_name": "LayoutModel",
            "_view_count": null,
            "_view_module": "@jupyter-widgets/base",
            "_view_module_version": "1.2.0",
            "_view_name": "LayoutView",
            "align_content": null,
            "align_items": null,
            "align_self": null,
            "border": null,
            "bottom": null,
            "display": null,
            "flex": null,
            "flex_flow": null,
            "grid_area": null,
            "grid_auto_columns": null,
            "grid_auto_flow": null,
            "grid_auto_rows": null,
            "grid_column": null,
            "grid_gap": null,
            "grid_row": null,
            "grid_template_areas": null,
            "grid_template_columns": null,
            "grid_template_rows": null,
            "height": null,
            "justify_content": null,
            "justify_items": null,
            "left": null,
            "margin": null,
            "max_height": null,
            "max_width": null,
            "min_height": null,
            "min_width": null,
            "object_fit": null,
            "object_position": null,
            "order": null,
            "overflow": null,
            "overflow_x": null,
            "overflow_y": null,
            "padding": null,
            "right": null,
            "top": null,
            "visibility": null,
            "width": null
          }
        },
        "67dcda7e9d2341619811ace93d83595a": {
          "model_module": "@jupyter-widgets/base",
          "model_name": "LayoutModel",
          "model_module_version": "1.2.0",
          "state": {
            "_model_module": "@jupyter-widgets/base",
            "_model_module_version": "1.2.0",
            "_model_name": "LayoutModel",
            "_view_count": null,
            "_view_module": "@jupyter-widgets/base",
            "_view_module_version": "1.2.0",
            "_view_name": "LayoutView",
            "align_content": null,
            "align_items": null,
            "align_self": null,
            "border": null,
            "bottom": null,
            "display": null,
            "flex": null,
            "flex_flow": null,
            "grid_area": null,
            "grid_auto_columns": null,
            "grid_auto_flow": null,
            "grid_auto_rows": null,
            "grid_column": null,
            "grid_gap": null,
            "grid_row": null,
            "grid_template_areas": null,
            "grid_template_columns": null,
            "grid_template_rows": null,
            "height": null,
            "justify_content": null,
            "justify_items": null,
            "left": null,
            "margin": null,
            "max_height": null,
            "max_width": null,
            "min_height": null,
            "min_width": null,
            "object_fit": null,
            "object_position": null,
            "order": null,
            "overflow": null,
            "overflow_x": null,
            "overflow_y": null,
            "padding": null,
            "right": null,
            "top": null,
            "visibility": null,
            "width": null
          }
        },
        "a9eee12200d94373bf783105944e2f20": {
          "model_module": "@jupyter-widgets/controls",
          "model_name": "DescriptionStyleModel",
          "model_module_version": "1.5.0",
          "state": {
            "_model_module": "@jupyter-widgets/controls",
            "_model_module_version": "1.5.0",
            "_model_name": "DescriptionStyleModel",
            "_view_count": null,
            "_view_module": "@jupyter-widgets/base",
            "_view_module_version": "1.2.0",
            "_view_name": "StyleView",
            "description_width": ""
          }
        },
        "8625b0ed44ae432db620cabd8a78f3ca": {
          "model_module": "@jupyter-widgets/base",
          "model_name": "LayoutModel",
          "model_module_version": "1.2.0",
          "state": {
            "_model_module": "@jupyter-widgets/base",
            "_model_module_version": "1.2.0",
            "_model_name": "LayoutModel",
            "_view_count": null,
            "_view_module": "@jupyter-widgets/base",
            "_view_module_version": "1.2.0",
            "_view_name": "LayoutView",
            "align_content": null,
            "align_items": null,
            "align_self": null,
            "border": null,
            "bottom": null,
            "display": null,
            "flex": null,
            "flex_flow": null,
            "grid_area": null,
            "grid_auto_columns": null,
            "grid_auto_flow": null,
            "grid_auto_rows": null,
            "grid_column": null,
            "grid_gap": null,
            "grid_row": null,
            "grid_template_areas": null,
            "grid_template_columns": null,
            "grid_template_rows": null,
            "height": null,
            "justify_content": null,
            "justify_items": null,
            "left": null,
            "margin": null,
            "max_height": null,
            "max_width": null,
            "min_height": null,
            "min_width": null,
            "object_fit": null,
            "object_position": null,
            "order": null,
            "overflow": null,
            "overflow_x": null,
            "overflow_y": null,
            "padding": null,
            "right": null,
            "top": null,
            "visibility": null,
            "width": null
          }
        },
        "a76cdb788d8949b3ab16f72aee9e5e22": {
          "model_module": "@jupyter-widgets/controls",
          "model_name": "ProgressStyleModel",
          "model_module_version": "1.5.0",
          "state": {
            "_model_module": "@jupyter-widgets/controls",
            "_model_module_version": "1.5.0",
            "_model_name": "ProgressStyleModel",
            "_view_count": null,
            "_view_module": "@jupyter-widgets/base",
            "_view_module_version": "1.2.0",
            "_view_name": "StyleView",
            "bar_color": null,
            "description_width": ""
          }
        }
      }
    }
  },
  "nbformat": 4,
  "nbformat_minor": 0
}